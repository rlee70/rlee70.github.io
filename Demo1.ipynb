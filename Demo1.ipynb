{
 "cells": [
  {
   "cell_type": "code",
   "execution_count": 2,
   "metadata": {},
   "outputs": [
    {
     "name": "stdout",
     "output_type": "stream",
     "text": [
      "Requirement already satisfied: pandas in /Library/Frameworks/Python.framework/Versions/3.13/lib/python3.13/site-packages (2.2.3)\n",
      "Requirement already satisfied: numpy>=1.26.0 in /Library/Frameworks/Python.framework/Versions/3.13/lib/python3.13/site-packages (from pandas) (2.2.2)\n",
      "Requirement already satisfied: python-dateutil>=2.8.2 in /Users/kailee/Library/Python/3.13/lib/python/site-packages (from pandas) (2.9.0.post0)\n",
      "Requirement already satisfied: pytz>=2020.1 in /Library/Frameworks/Python.framework/Versions/3.13/lib/python3.13/site-packages (from pandas) (2024.2)\n",
      "Requirement already satisfied: tzdata>=2022.7 in /Library/Frameworks/Python.framework/Versions/3.13/lib/python3.13/site-packages (from pandas) (2025.1)\n",
      "Requirement already satisfied: six>=1.5 in /Users/kailee/Library/Python/3.13/lib/python/site-packages (from python-dateutil>=2.8.2->pandas) (1.17.0)\n",
      "Note: you may need to restart the kernel to use updated packages.\n"
     ]
    }
   ],
   "source": [
    "%pip install pandas"
   ]
  },
  {
   "cell_type": "code",
   "execution_count": 75,
   "metadata": {},
   "outputs": [
    {
     "name": "stdout",
     "output_type": "stream",
     "text": [
      "Requirement already satisfied: matplotlib in /Library/Frameworks/Python.framework/Versions/3.13/lib/python3.13/site-packages (3.10.0)\n",
      "Requirement already satisfied: contourpy>=1.0.1 in /Library/Frameworks/Python.framework/Versions/3.13/lib/python3.13/site-packages (from matplotlib) (1.3.1)\n",
      "Requirement already satisfied: cycler>=0.10 in /Library/Frameworks/Python.framework/Versions/3.13/lib/python3.13/site-packages (from matplotlib) (0.12.1)\n",
      "Requirement already satisfied: fonttools>=4.22.0 in /Library/Frameworks/Python.framework/Versions/3.13/lib/python3.13/site-packages (from matplotlib) (4.55.6)\n",
      "Requirement already satisfied: kiwisolver>=1.3.1 in /Library/Frameworks/Python.framework/Versions/3.13/lib/python3.13/site-packages (from matplotlib) (1.4.8)\n",
      "Requirement already satisfied: numpy>=1.23 in /Library/Frameworks/Python.framework/Versions/3.13/lib/python3.13/site-packages (from matplotlib) (2.2.2)\n",
      "Requirement already satisfied: packaging>=20.0 in /Users/kailee/Library/Python/3.13/lib/python/site-packages (from matplotlib) (24.2)\n",
      "Requirement already satisfied: pillow>=8 in /Library/Frameworks/Python.framework/Versions/3.13/lib/python3.13/site-packages (from matplotlib) (11.1.0)\n",
      "Requirement already satisfied: pyparsing>=2.3.1 in /Library/Frameworks/Python.framework/Versions/3.13/lib/python3.13/site-packages (from matplotlib) (3.2.1)\n",
      "Requirement already satisfied: python-dateutil>=2.7 in /Users/kailee/Library/Python/3.13/lib/python/site-packages (from matplotlib) (2.9.0.post0)\n",
      "Requirement already satisfied: six>=1.5 in /Users/kailee/Library/Python/3.13/lib/python/site-packages (from python-dateutil>=2.7->matplotlib) (1.17.0)\n",
      "Note: you may need to restart the kernel to use updated packages.\n"
     ]
    }
   ],
   "source": [
    "%pip install matplotlib"
   ]
  },
  {
   "cell_type": "code",
   "execution_count": 76,
   "metadata": {},
   "outputs": [
    {
     "name": "stdout",
     "output_type": "stream",
     "text": [
      "Requirement already satisfied: seaborn in /Library/Frameworks/Python.framework/Versions/3.13/lib/python3.13/site-packages (0.13.2)\n",
      "Requirement already satisfied: numpy!=1.24.0,>=1.20 in /Library/Frameworks/Python.framework/Versions/3.13/lib/python3.13/site-packages (from seaborn) (2.2.2)\n",
      "Requirement already satisfied: pandas>=1.2 in /Library/Frameworks/Python.framework/Versions/3.13/lib/python3.13/site-packages (from seaborn) (2.2.3)\n",
      "Requirement already satisfied: matplotlib!=3.6.1,>=3.4 in /Library/Frameworks/Python.framework/Versions/3.13/lib/python3.13/site-packages (from seaborn) (3.10.0)\n",
      "Requirement already satisfied: contourpy>=1.0.1 in /Library/Frameworks/Python.framework/Versions/3.13/lib/python3.13/site-packages (from matplotlib!=3.6.1,>=3.4->seaborn) (1.3.1)\n",
      "Requirement already satisfied: cycler>=0.10 in /Library/Frameworks/Python.framework/Versions/3.13/lib/python3.13/site-packages (from matplotlib!=3.6.1,>=3.4->seaborn) (0.12.1)\n",
      "Requirement already satisfied: fonttools>=4.22.0 in /Library/Frameworks/Python.framework/Versions/3.13/lib/python3.13/site-packages (from matplotlib!=3.6.1,>=3.4->seaborn) (4.55.6)\n",
      "Requirement already satisfied: kiwisolver>=1.3.1 in /Library/Frameworks/Python.framework/Versions/3.13/lib/python3.13/site-packages (from matplotlib!=3.6.1,>=3.4->seaborn) (1.4.8)\n",
      "Requirement already satisfied: packaging>=20.0 in /Users/kailee/Library/Python/3.13/lib/python/site-packages (from matplotlib!=3.6.1,>=3.4->seaborn) (24.2)\n",
      "Requirement already satisfied: pillow>=8 in /Library/Frameworks/Python.framework/Versions/3.13/lib/python3.13/site-packages (from matplotlib!=3.6.1,>=3.4->seaborn) (11.1.0)\n",
      "Requirement already satisfied: pyparsing>=2.3.1 in /Library/Frameworks/Python.framework/Versions/3.13/lib/python3.13/site-packages (from matplotlib!=3.6.1,>=3.4->seaborn) (3.2.1)\n",
      "Requirement already satisfied: python-dateutil>=2.7 in /Users/kailee/Library/Python/3.13/lib/python/site-packages (from matplotlib!=3.6.1,>=3.4->seaborn) (2.9.0.post0)\n",
      "Requirement already satisfied: pytz>=2020.1 in /Library/Frameworks/Python.framework/Versions/3.13/lib/python3.13/site-packages (from pandas>=1.2->seaborn) (2024.2)\n",
      "Requirement already satisfied: tzdata>=2022.7 in /Library/Frameworks/Python.framework/Versions/3.13/lib/python3.13/site-packages (from pandas>=1.2->seaborn) (2025.1)\n",
      "Requirement already satisfied: six>=1.5 in /Users/kailee/Library/Python/3.13/lib/python/site-packages (from python-dateutil>=2.7->matplotlib!=3.6.1,>=3.4->seaborn) (1.17.0)\n",
      "Note: you may need to restart the kernel to use updated packages.\n"
     ]
    }
   ],
   "source": [
    "%pip install seaborn"
   ]
  },
  {
   "cell_type": "code",
   "execution_count": 5,
   "metadata": {},
   "outputs": [],
   "source": [
    "import pandas as pd"
   ]
  },
  {
   "cell_type": "markdown",
   "metadata": {},
   "source": [
    "## Series Vs DataFrames"
   ]
  },
  {
   "cell_type": "code",
   "execution_count": 6,
   "metadata": {},
   "outputs": [],
   "source": [
    "series = pd.Series(['dog', 'cat', 'frog'])"
   ]
  },
  {
   "cell_type": "code",
   "execution_count": 7,
   "metadata": {},
   "outputs": [
    {
     "data": {
      "text/plain": [
       "0     dog\n",
       "1     cat\n",
       "2    frog\n",
       "dtype: object"
      ]
     },
     "execution_count": 7,
     "metadata": {},
     "output_type": "execute_result"
    }
   ],
   "source": [
    "series"
   ]
  },
  {
   "cell_type": "code",
   "execution_count": 8,
   "metadata": {},
   "outputs": [],
   "source": [
    "colors = pd.Series(['blue', 'black', 'green'])"
   ]
  },
  {
   "cell_type": "code",
   "execution_count": 9,
   "metadata": {},
   "outputs": [
    {
     "data": {
      "text/plain": [
       "0     blue\n",
       "1    black\n",
       "2    green\n",
       "dtype: object"
      ]
     },
     "execution_count": 9,
     "metadata": {},
     "output_type": "execute_result"
    }
   ],
   "source": [
    "colors"
   ]
  },
  {
   "cell_type": "code",
   "execution_count": 10,
   "metadata": {},
   "outputs": [],
   "source": [
    "animal_df = pd.DataFrame({\"animal\": series, 'colors': colors})"
   ]
  },
  {
   "cell_type": "code",
   "execution_count": 11,
   "metadata": {},
   "outputs": [
    {
     "data": {
      "text/html": [
       "<div>\n",
       "<style scoped>\n",
       "    .dataframe tbody tr th:only-of-type {\n",
       "        vertical-align: middle;\n",
       "    }\n",
       "\n",
       "    .dataframe tbody tr th {\n",
       "        vertical-align: top;\n",
       "    }\n",
       "\n",
       "    .dataframe thead th {\n",
       "        text-align: right;\n",
       "    }\n",
       "</style>\n",
       "<table border=\"1\" class=\"dataframe\">\n",
       "  <thead>\n",
       "    <tr style=\"text-align: right;\">\n",
       "      <th></th>\n",
       "      <th>animal</th>\n",
       "      <th>colors</th>\n",
       "    </tr>\n",
       "  </thead>\n",
       "  <tbody>\n",
       "    <tr>\n",
       "      <th>0</th>\n",
       "      <td>dog</td>\n",
       "      <td>blue</td>\n",
       "    </tr>\n",
       "    <tr>\n",
       "      <th>1</th>\n",
       "      <td>cat</td>\n",
       "      <td>black</td>\n",
       "    </tr>\n",
       "    <tr>\n",
       "      <th>2</th>\n",
       "      <td>frog</td>\n",
       "      <td>green</td>\n",
       "    </tr>\n",
       "  </tbody>\n",
       "</table>\n",
       "</div>"
      ],
      "text/plain": [
       "  animal colors\n",
       "0    dog   blue\n",
       "1    cat  black\n",
       "2   frog  green"
      ]
     },
     "execution_count": 11,
     "metadata": {},
     "output_type": "execute_result"
    }
   ],
   "source": [
    "animal_df"
   ]
  },
  {
   "cell_type": "markdown",
   "metadata": {},
   "source": [
    "## Reading In Our Data!"
   ]
  },
  {
   "cell_type": "code",
   "execution_count": 20,
   "metadata": {},
   "outputs": [
    {
     "name": "stderr",
     "output_type": "stream",
     "text": [
      "/var/folders/t4/fc819y_d12x4mw_4wctsmrnc0000gn/T/ipykernel_18912/32736825.py:1: DtypeWarning: Columns (1,18) have mixed types. Specify dtype option on import or set low_memory=False.\n",
      "  df = pd.read_csv('datasets/Crime.csv')\n"
     ]
    }
   ],
   "source": [
    "df = pd.read_csv('datasets/Crime.csv')"
   ]
  },
  {
   "cell_type": "code",
   "execution_count": 21,
   "metadata": {},
   "outputs": [
    {
     "data": {
      "text/html": [
       "<div>\n",
       "<style scoped>\n",
       "    .dataframe tbody tr th:only-of-type {\n",
       "        vertical-align: middle;\n",
       "    }\n",
       "\n",
       "    .dataframe tbody tr th {\n",
       "        vertical-align: top;\n",
       "    }\n",
       "\n",
       "    .dataframe thead th {\n",
       "        text-align: right;\n",
       "    }\n",
       "</style>\n",
       "<table border=\"1\" class=\"dataframe\">\n",
       "  <thead>\n",
       "    <tr style=\"text-align: right;\">\n",
       "      <th></th>\n",
       "      <th>Incident ID</th>\n",
       "      <th>Offence Code</th>\n",
       "      <th>CR Number</th>\n",
       "      <th>Dispatch Date / Time</th>\n",
       "      <th>NIBRS Code</th>\n",
       "      <th>Victims</th>\n",
       "      <th>Crime Name1</th>\n",
       "      <th>Crime Name2</th>\n",
       "      <th>Crime Name3</th>\n",
       "      <th>Police District Name</th>\n",
       "      <th>...</th>\n",
       "      <th>Street Prefix</th>\n",
       "      <th>Street Name</th>\n",
       "      <th>Street Suffix</th>\n",
       "      <th>Street Type</th>\n",
       "      <th>Start_Date_Time</th>\n",
       "      <th>End_Date_Time</th>\n",
       "      <th>Latitude</th>\n",
       "      <th>Longitude</th>\n",
       "      <th>Police District Number</th>\n",
       "      <th>Location</th>\n",
       "    </tr>\n",
       "  </thead>\n",
       "  <tbody>\n",
       "    <tr>\n",
       "      <th>0</th>\n",
       "      <td>201202980</td>\n",
       "      <td>3550</td>\n",
       "      <td>180042096</td>\n",
       "      <td>08/23/2018 09:52:08 PM</td>\n",
       "      <td>35B</td>\n",
       "      <td>1</td>\n",
       "      <td>Crime Against Society</td>\n",
       "      <td>Drug Equipment Violations</td>\n",
       "      <td>DRUGS - NARCOTIC EQUIP - POSSESS</td>\n",
       "      <td>GERMANTOWN</td>\n",
       "      <td>...</td>\n",
       "      <td>NaN</td>\n",
       "      <td>MIDDLEBROOK</td>\n",
       "      <td>NaN</td>\n",
       "      <td>RD</td>\n",
       "      <td>08/23/2018 09:52:00 PM</td>\n",
       "      <td>NaN</td>\n",
       "      <td>39.177744</td>\n",
       "      <td>-77.265619</td>\n",
       "      <td>5D</td>\n",
       "      <td>(39.1777, -77.2656)</td>\n",
       "    </tr>\n",
       "    <tr>\n",
       "      <th>1</th>\n",
       "      <td>201181293</td>\n",
       "      <td>3522</td>\n",
       "      <td>180015424</td>\n",
       "      <td>03/30/2018 01:00:55 AM</td>\n",
       "      <td>35A</td>\n",
       "      <td>1</td>\n",
       "      <td>Crime Against Society</td>\n",
       "      <td>Drug/Narcotic Violations</td>\n",
       "      <td>DRUGS - OPIUM OR DERIVATIVE - POSSESS</td>\n",
       "      <td>BETHESDA</td>\n",
       "      <td>...</td>\n",
       "      <td>NaN</td>\n",
       "      <td>WOODMONT</td>\n",
       "      <td>NaN</td>\n",
       "      <td>AVE</td>\n",
       "      <td>03/30/2018 01:01:00 AM</td>\n",
       "      <td>NaN</td>\n",
       "      <td>38.992693</td>\n",
       "      <td>-77.097063</td>\n",
       "      <td>2D</td>\n",
       "      <td>(38.9927, -77.0971)</td>\n",
       "    </tr>\n",
       "    <tr>\n",
       "      <th>2</th>\n",
       "      <td>201181293</td>\n",
       "      <td>3562</td>\n",
       "      <td>180015424</td>\n",
       "      <td>03/30/2018 01:00:55 AM</td>\n",
       "      <td>35A</td>\n",
       "      <td>1</td>\n",
       "      <td>Crime Against Society</td>\n",
       "      <td>Drug/Narcotic Violations</td>\n",
       "      <td>DRUGS - MARIJUANA - POSSESS</td>\n",
       "      <td>BETHESDA</td>\n",
       "      <td>...</td>\n",
       "      <td>NaN</td>\n",
       "      <td>WOODMONT</td>\n",
       "      <td>NaN</td>\n",
       "      <td>AVE</td>\n",
       "      <td>03/30/2018 01:01:00 AM</td>\n",
       "      <td>NaN</td>\n",
       "      <td>38.992693</td>\n",
       "      <td>-77.097063</td>\n",
       "      <td>2D</td>\n",
       "      <td>(38.9927, -77.0971)</td>\n",
       "    </tr>\n",
       "    <tr>\n",
       "      <th>3</th>\n",
       "      <td>201193163</td>\n",
       "      <td>3520</td>\n",
       "      <td>180029476</td>\n",
       "      <td>06/14/2018 10:26:45 PM</td>\n",
       "      <td>35A</td>\n",
       "      <td>1</td>\n",
       "      <td>Crime Against Society</td>\n",
       "      <td>Drug/Narcotic Violations</td>\n",
       "      <td>DRUGS - OPIUM OR DERIVATIVE - SELL</td>\n",
       "      <td>MONTGOMERY VILLAGE</td>\n",
       "      <td>...</td>\n",
       "      <td>NaN</td>\n",
       "      <td>QUINCE ORCHARD</td>\n",
       "      <td>NaN</td>\n",
       "      <td>RD</td>\n",
       "      <td>06/14/2018 10:26:00 PM</td>\n",
       "      <td>06/15/2018 03:00:00 AM</td>\n",
       "      <td>39.147954</td>\n",
       "      <td>-77.218189</td>\n",
       "      <td>6D</td>\n",
       "      <td>(39.148, -77.2182)</td>\n",
       "    </tr>\n",
       "    <tr>\n",
       "      <th>4</th>\n",
       "      <td>201204355</td>\n",
       "      <td>2204</td>\n",
       "      <td>180043926</td>\n",
       "      <td>09/03/2018 12:06:54 PM</td>\n",
       "      <td>220</td>\n",
       "      <td>1</td>\n",
       "      <td>Crime Against Property</td>\n",
       "      <td>Burglary/Breaking and Entering</td>\n",
       "      <td>BURGLARY - NO FORCED ENTRY-RESIDENTIAL</td>\n",
       "      <td>BETHESDA</td>\n",
       "      <td>...</td>\n",
       "      <td>NaN</td>\n",
       "      <td>FALSTONE</td>\n",
       "      <td>NaN</td>\n",
       "      <td>AVE</td>\n",
       "      <td>09/02/2018 11:30:00 PM</td>\n",
       "      <td>09/03/2018 12:30:00 AM</td>\n",
       "      <td>38.966174</td>\n",
       "      <td>-77.096561</td>\n",
       "      <td>2D</td>\n",
       "      <td>(38.9662, -77.0966)</td>\n",
       "    </tr>\n",
       "  </tbody>\n",
       "</table>\n",
       "<p>5 rows × 30 columns</p>\n",
       "</div>"
      ],
      "text/plain": [
       "   Incident ID Offence Code  CR Number    Dispatch Date / Time NIBRS Code  \\\n",
       "0    201202980         3550  180042096  08/23/2018 09:52:08 PM        35B   \n",
       "1    201181293         3522  180015424  03/30/2018 01:00:55 AM        35A   \n",
       "2    201181293         3562  180015424  03/30/2018 01:00:55 AM        35A   \n",
       "3    201193163         3520  180029476  06/14/2018 10:26:45 PM        35A   \n",
       "4    201204355         2204  180043926  09/03/2018 12:06:54 PM        220   \n",
       "\n",
       "   Victims             Crime Name1                     Crime Name2  \\\n",
       "0        1   Crime Against Society       Drug Equipment Violations   \n",
       "1        1   Crime Against Society        Drug/Narcotic Violations   \n",
       "2        1   Crime Against Society        Drug/Narcotic Violations   \n",
       "3        1   Crime Against Society        Drug/Narcotic Violations   \n",
       "4        1  Crime Against Property  Burglary/Breaking and Entering   \n",
       "\n",
       "                              Crime Name3 Police District Name  ...  \\\n",
       "0        DRUGS - NARCOTIC EQUIP - POSSESS           GERMANTOWN  ...   \n",
       "1   DRUGS - OPIUM OR DERIVATIVE - POSSESS             BETHESDA  ...   \n",
       "2             DRUGS - MARIJUANA - POSSESS             BETHESDA  ...   \n",
       "3      DRUGS - OPIUM OR DERIVATIVE - SELL   MONTGOMERY VILLAGE  ...   \n",
       "4  BURGLARY - NO FORCED ENTRY-RESIDENTIAL             BETHESDA  ...   \n",
       "\n",
       "  Street Prefix     Street Name Street Suffix  Street Type  \\\n",
       "0           NaN     MIDDLEBROOK           NaN           RD   \n",
       "1           NaN        WOODMONT           NaN          AVE   \n",
       "2           NaN        WOODMONT           NaN          AVE   \n",
       "3           NaN  QUINCE ORCHARD           NaN           RD   \n",
       "4           NaN        FALSTONE           NaN          AVE   \n",
       "\n",
       "          Start_Date_Time           End_Date_Time   Latitude  Longitude  \\\n",
       "0  08/23/2018 09:52:00 PM                     NaN  39.177744 -77.265619   \n",
       "1  03/30/2018 01:01:00 AM                     NaN  38.992693 -77.097063   \n",
       "2  03/30/2018 01:01:00 AM                     NaN  38.992693 -77.097063   \n",
       "3  06/14/2018 10:26:00 PM  06/15/2018 03:00:00 AM  39.147954 -77.218189   \n",
       "4  09/02/2018 11:30:00 PM  09/03/2018 12:30:00 AM  38.966174 -77.096561   \n",
       "\n",
       "  Police District Number             Location  \n",
       "0                     5D  (39.1777, -77.2656)  \n",
       "1                     2D  (38.9927, -77.0971)  \n",
       "2                     2D  (38.9927, -77.0971)  \n",
       "3                     6D   (39.148, -77.2182)  \n",
       "4                     2D  (38.9662, -77.0966)  \n",
       "\n",
       "[5 rows x 30 columns]"
      ]
     },
     "execution_count": 21,
     "metadata": {},
     "output_type": "execute_result"
    }
   ],
   "source": [
    "df.head()"
   ]
  },
  {
   "cell_type": "markdown",
   "metadata": {},
   "source": [
    "## Describe our data"
   ]
  },
  {
   "cell_type": "code",
   "execution_count": 22,
   "metadata": {},
   "outputs": [
    {
     "data": {
      "text/plain": [
       "Index(['Incident ID', 'Offence Code', 'CR Number', 'Dispatch Date / Time',\n",
       "       'NIBRS Code', 'Victims', 'Crime Name1', 'Crime Name2', 'Crime Name3',\n",
       "       'Police District Name', 'Block Address', 'City', 'State', 'Zip Code',\n",
       "       'Agency', 'Place', 'Sector', 'Beat', 'PRA', 'Address Number',\n",
       "       'Street Prefix', 'Street Name', 'Street Suffix', 'Street Type',\n",
       "       'Start_Date_Time', 'End_Date_Time', 'Latitude', 'Longitude',\n",
       "       'Police District Number', 'Location'],\n",
       "      dtype='object')"
      ]
     },
     "execution_count": 22,
     "metadata": {},
     "output_type": "execute_result"
    }
   ],
   "source": [
    "df.columns"
   ]
  },
  {
   "cell_type": "code",
   "execution_count": 23,
   "metadata": {},
   "outputs": [
    {
     "data": {
      "text/plain": [
       "Incident ID                 int64\n",
       "Offence Code               object\n",
       "CR Number                   int64\n",
       "Dispatch Date / Time       object\n",
       "NIBRS Code                 object\n",
       "Victims                     int64\n",
       "Crime Name1                object\n",
       "Crime Name2                object\n",
       "Crime Name3                object\n",
       "Police District Name       object\n",
       "Block Address              object\n",
       "City                       object\n",
       "State                      object\n",
       "Zip Code                  float64\n",
       "Agency                     object\n",
       "Place                      object\n",
       "Sector                     object\n",
       "Beat                       object\n",
       "PRA                        object\n",
       "Address Number            float64\n",
       "Street Prefix              object\n",
       "Street Name                object\n",
       "Street Suffix              object\n",
       "Street Type                object\n",
       "Start_Date_Time            object\n",
       "End_Date_Time              object\n",
       "Latitude                  float64\n",
       "Longitude                 float64\n",
       "Police District Number     object\n",
       "Location                   object\n",
       "dtype: object"
      ]
     },
     "execution_count": 23,
     "metadata": {},
     "output_type": "execute_result"
    }
   ],
   "source": [
    "df.dtypes"
   ]
  },
  {
   "cell_type": "code",
   "execution_count": 24,
   "metadata": {},
   "outputs": [
    {
     "data": {
      "text/plain": [
       "RangeIndex(start=0, stop=306094, step=1)"
      ]
     },
     "execution_count": 24,
     "metadata": {},
     "output_type": "execute_result"
    }
   ],
   "source": [
    "df.index"
   ]
  },
  {
   "cell_type": "code",
   "execution_count": 25,
   "metadata": {},
   "outputs": [
    {
     "data": {
      "text/plain": [
       "(306094, 30)"
      ]
     },
     "execution_count": 25,
     "metadata": {},
     "output_type": "execute_result"
    }
   ],
   "source": [
    "df.shape"
   ]
  },
  {
   "cell_type": "code",
   "execution_count": 26,
   "metadata": {},
   "outputs": [
    {
     "data": {
      "text/html": [
       "<div>\n",
       "<style scoped>\n",
       "    .dataframe tbody tr th:only-of-type {\n",
       "        vertical-align: middle;\n",
       "    }\n",
       "\n",
       "    .dataframe tbody tr th {\n",
       "        vertical-align: top;\n",
       "    }\n",
       "\n",
       "    .dataframe thead th {\n",
       "        text-align: right;\n",
       "    }\n",
       "</style>\n",
       "<table border=\"1\" class=\"dataframe\">\n",
       "  <thead>\n",
       "    <tr style=\"text-align: right;\">\n",
       "      <th></th>\n",
       "      <th>Incident ID</th>\n",
       "      <th>CR Number</th>\n",
       "      <th>Victims</th>\n",
       "      <th>Zip Code</th>\n",
       "      <th>Address Number</th>\n",
       "      <th>Latitude</th>\n",
       "      <th>Longitude</th>\n",
       "    </tr>\n",
       "  </thead>\n",
       "  <tbody>\n",
       "    <tr>\n",
       "      <th>count</th>\n",
       "      <td>3.060940e+05</td>\n",
       "      <td>3.060940e+05</td>\n",
       "      <td>306094.000000</td>\n",
       "      <td>302915.000000</td>\n",
       "      <td>2.799850e+05</td>\n",
       "      <td>306094.000000</td>\n",
       "      <td>306094.000000</td>\n",
       "    </tr>\n",
       "    <tr>\n",
       "      <th>mean</th>\n",
       "      <td>2.012369e+08</td>\n",
       "      <td>1.692787e+08</td>\n",
       "      <td>1.022692</td>\n",
       "      <td>20876.535939</td>\n",
       "      <td>8.393001e+03</td>\n",
       "      <td>38.146328</td>\n",
       "      <td>-75.269490</td>\n",
       "    </tr>\n",
       "    <tr>\n",
       "      <th>std</th>\n",
       "      <td>8.626185e+04</td>\n",
       "      <td>6.210304e+07</td>\n",
       "      <td>0.192311</td>\n",
       "      <td>170.157722</td>\n",
       "      <td>1.526296e+04</td>\n",
       "      <td>5.974082</td>\n",
       "      <td>11.786118</td>\n",
       "    </tr>\n",
       "    <tr>\n",
       "      <th>min</th>\n",
       "      <td>2.010871e+08</td>\n",
       "      <td>1.001107e+07</td>\n",
       "      <td>1.000000</td>\n",
       "      <td>6.000000</td>\n",
       "      <td>1.000000e+00</td>\n",
       "      <td>0.000000</td>\n",
       "      <td>-77.516753</td>\n",
       "    </tr>\n",
       "    <tr>\n",
       "      <th>25%</th>\n",
       "      <td>2.011625e+08</td>\n",
       "      <td>1.705431e+08</td>\n",
       "      <td>1.000000</td>\n",
       "      <td>20853.000000</td>\n",
       "      <td>1.600000e+03</td>\n",
       "      <td>39.020392</td>\n",
       "      <td>-77.197117</td>\n",
       "    </tr>\n",
       "    <tr>\n",
       "      <th>50%</th>\n",
       "      <td>2.012361e+08</td>\n",
       "      <td>1.900183e+08</td>\n",
       "      <td>1.000000</td>\n",
       "      <td>20878.000000</td>\n",
       "      <td>8.100000e+03</td>\n",
       "      <td>39.072844</td>\n",
       "      <td>-77.099464</td>\n",
       "    </tr>\n",
       "    <tr>\n",
       "      <th>75%</th>\n",
       "      <td>2.013109e+08</td>\n",
       "      <td>2.000466e+08</td>\n",
       "      <td>1.000000</td>\n",
       "      <td>20904.000000</td>\n",
       "      <td>1.250000e+04</td>\n",
       "      <td>39.142072</td>\n",
       "      <td>-77.029046</td>\n",
       "    </tr>\n",
       "    <tr>\n",
       "      <th>max</th>\n",
       "      <td>2.013872e+08</td>\n",
       "      <td>2.204211e+08</td>\n",
       "      <td>22.000000</td>\n",
       "      <td>29882.000000</td>\n",
       "      <td>2.090600e+06</td>\n",
       "      <td>90.000000</td>\n",
       "      <td>0.000000</td>\n",
       "    </tr>\n",
       "  </tbody>\n",
       "</table>\n",
       "</div>"
      ],
      "text/plain": [
       "        Incident ID     CR Number        Victims       Zip Code  \\\n",
       "count  3.060940e+05  3.060940e+05  306094.000000  302915.000000   \n",
       "mean   2.012369e+08  1.692787e+08       1.022692   20876.535939   \n",
       "std    8.626185e+04  6.210304e+07       0.192311     170.157722   \n",
       "min    2.010871e+08  1.001107e+07       1.000000       6.000000   \n",
       "25%    2.011625e+08  1.705431e+08       1.000000   20853.000000   \n",
       "50%    2.012361e+08  1.900183e+08       1.000000   20878.000000   \n",
       "75%    2.013109e+08  2.000466e+08       1.000000   20904.000000   \n",
       "max    2.013872e+08  2.204211e+08      22.000000   29882.000000   \n",
       "\n",
       "       Address Number       Latitude      Longitude  \n",
       "count    2.799850e+05  306094.000000  306094.000000  \n",
       "mean     8.393001e+03      38.146328     -75.269490  \n",
       "std      1.526296e+04       5.974082      11.786118  \n",
       "min      1.000000e+00       0.000000     -77.516753  \n",
       "25%      1.600000e+03      39.020392     -77.197117  \n",
       "50%      8.100000e+03      39.072844     -77.099464  \n",
       "75%      1.250000e+04      39.142072     -77.029046  \n",
       "max      2.090600e+06      90.000000       0.000000  "
      ]
     },
     "execution_count": 26,
     "metadata": {},
     "output_type": "execute_result"
    }
   ],
   "source": [
    "df.describe()"
   ]
  },
  {
   "cell_type": "markdown",
   "metadata": {},
   "source": [
    "## View and select data"
   ]
  },
  {
   "cell_type": "code",
   "execution_count": 27,
   "metadata": {},
   "outputs": [
    {
     "data": {
      "text/html": [
       "<div>\n",
       "<style scoped>\n",
       "    .dataframe tbody tr th:only-of-type {\n",
       "        vertical-align: middle;\n",
       "    }\n",
       "\n",
       "    .dataframe tbody tr th {\n",
       "        vertical-align: top;\n",
       "    }\n",
       "\n",
       "    .dataframe thead th {\n",
       "        text-align: right;\n",
       "    }\n",
       "</style>\n",
       "<table border=\"1\" class=\"dataframe\">\n",
       "  <thead>\n",
       "    <tr style=\"text-align: right;\">\n",
       "      <th></th>\n",
       "      <th>Incident ID</th>\n",
       "      <th>Offence Code</th>\n",
       "      <th>CR Number</th>\n",
       "      <th>Dispatch Date / Time</th>\n",
       "      <th>NIBRS Code</th>\n",
       "      <th>Victims</th>\n",
       "      <th>Crime Name1</th>\n",
       "      <th>Crime Name2</th>\n",
       "      <th>Crime Name3</th>\n",
       "      <th>Police District Name</th>\n",
       "      <th>...</th>\n",
       "      <th>Street Prefix</th>\n",
       "      <th>Street Name</th>\n",
       "      <th>Street Suffix</th>\n",
       "      <th>Street Type</th>\n",
       "      <th>Start_Date_Time</th>\n",
       "      <th>End_Date_Time</th>\n",
       "      <th>Latitude</th>\n",
       "      <th>Longitude</th>\n",
       "      <th>Police District Number</th>\n",
       "      <th>Location</th>\n",
       "    </tr>\n",
       "  </thead>\n",
       "  <tbody>\n",
       "    <tr>\n",
       "      <th>0</th>\n",
       "      <td>201202980</td>\n",
       "      <td>3550</td>\n",
       "      <td>180042096</td>\n",
       "      <td>08/23/2018 09:52:08 PM</td>\n",
       "      <td>35B</td>\n",
       "      <td>1</td>\n",
       "      <td>Crime Against Society</td>\n",
       "      <td>Drug Equipment Violations</td>\n",
       "      <td>DRUGS - NARCOTIC EQUIP - POSSESS</td>\n",
       "      <td>GERMANTOWN</td>\n",
       "      <td>...</td>\n",
       "      <td>NaN</td>\n",
       "      <td>MIDDLEBROOK</td>\n",
       "      <td>NaN</td>\n",
       "      <td>RD</td>\n",
       "      <td>08/23/2018 09:52:00 PM</td>\n",
       "      <td>NaN</td>\n",
       "      <td>39.177744</td>\n",
       "      <td>-77.265619</td>\n",
       "      <td>5D</td>\n",
       "      <td>(39.1777, -77.2656)</td>\n",
       "    </tr>\n",
       "    <tr>\n",
       "      <th>1</th>\n",
       "      <td>201181293</td>\n",
       "      <td>3522</td>\n",
       "      <td>180015424</td>\n",
       "      <td>03/30/2018 01:00:55 AM</td>\n",
       "      <td>35A</td>\n",
       "      <td>1</td>\n",
       "      <td>Crime Against Society</td>\n",
       "      <td>Drug/Narcotic Violations</td>\n",
       "      <td>DRUGS - OPIUM OR DERIVATIVE - POSSESS</td>\n",
       "      <td>BETHESDA</td>\n",
       "      <td>...</td>\n",
       "      <td>NaN</td>\n",
       "      <td>WOODMONT</td>\n",
       "      <td>NaN</td>\n",
       "      <td>AVE</td>\n",
       "      <td>03/30/2018 01:01:00 AM</td>\n",
       "      <td>NaN</td>\n",
       "      <td>38.992693</td>\n",
       "      <td>-77.097063</td>\n",
       "      <td>2D</td>\n",
       "      <td>(38.9927, -77.0971)</td>\n",
       "    </tr>\n",
       "    <tr>\n",
       "      <th>2</th>\n",
       "      <td>201181293</td>\n",
       "      <td>3562</td>\n",
       "      <td>180015424</td>\n",
       "      <td>03/30/2018 01:00:55 AM</td>\n",
       "      <td>35A</td>\n",
       "      <td>1</td>\n",
       "      <td>Crime Against Society</td>\n",
       "      <td>Drug/Narcotic Violations</td>\n",
       "      <td>DRUGS - MARIJUANA - POSSESS</td>\n",
       "      <td>BETHESDA</td>\n",
       "      <td>...</td>\n",
       "      <td>NaN</td>\n",
       "      <td>WOODMONT</td>\n",
       "      <td>NaN</td>\n",
       "      <td>AVE</td>\n",
       "      <td>03/30/2018 01:01:00 AM</td>\n",
       "      <td>NaN</td>\n",
       "      <td>38.992693</td>\n",
       "      <td>-77.097063</td>\n",
       "      <td>2D</td>\n",
       "      <td>(38.9927, -77.0971)</td>\n",
       "    </tr>\n",
       "    <tr>\n",
       "      <th>3</th>\n",
       "      <td>201193163</td>\n",
       "      <td>3520</td>\n",
       "      <td>180029476</td>\n",
       "      <td>06/14/2018 10:26:45 PM</td>\n",
       "      <td>35A</td>\n",
       "      <td>1</td>\n",
       "      <td>Crime Against Society</td>\n",
       "      <td>Drug/Narcotic Violations</td>\n",
       "      <td>DRUGS - OPIUM OR DERIVATIVE - SELL</td>\n",
       "      <td>MONTGOMERY VILLAGE</td>\n",
       "      <td>...</td>\n",
       "      <td>NaN</td>\n",
       "      <td>QUINCE ORCHARD</td>\n",
       "      <td>NaN</td>\n",
       "      <td>RD</td>\n",
       "      <td>06/14/2018 10:26:00 PM</td>\n",
       "      <td>06/15/2018 03:00:00 AM</td>\n",
       "      <td>39.147954</td>\n",
       "      <td>-77.218189</td>\n",
       "      <td>6D</td>\n",
       "      <td>(39.148, -77.2182)</td>\n",
       "    </tr>\n",
       "    <tr>\n",
       "      <th>4</th>\n",
       "      <td>201204355</td>\n",
       "      <td>2204</td>\n",
       "      <td>180043926</td>\n",
       "      <td>09/03/2018 12:06:54 PM</td>\n",
       "      <td>220</td>\n",
       "      <td>1</td>\n",
       "      <td>Crime Against Property</td>\n",
       "      <td>Burglary/Breaking and Entering</td>\n",
       "      <td>BURGLARY - NO FORCED ENTRY-RESIDENTIAL</td>\n",
       "      <td>BETHESDA</td>\n",
       "      <td>...</td>\n",
       "      <td>NaN</td>\n",
       "      <td>FALSTONE</td>\n",
       "      <td>NaN</td>\n",
       "      <td>AVE</td>\n",
       "      <td>09/02/2018 11:30:00 PM</td>\n",
       "      <td>09/03/2018 12:30:00 AM</td>\n",
       "      <td>38.966174</td>\n",
       "      <td>-77.096561</td>\n",
       "      <td>2D</td>\n",
       "      <td>(38.9662, -77.0966)</td>\n",
       "    </tr>\n",
       "    <tr>\n",
       "      <th>5</th>\n",
       "      <td>201204355</td>\n",
       "      <td>2404</td>\n",
       "      <td>180043926</td>\n",
       "      <td>09/03/2018 12:06:54 PM</td>\n",
       "      <td>240</td>\n",
       "      <td>1</td>\n",
       "      <td>Crime Against Property</td>\n",
       "      <td>Motor Vehicle Theft</td>\n",
       "      <td>AUTO THEFT - VEHICLE THEFT</td>\n",
       "      <td>BETHESDA</td>\n",
       "      <td>...</td>\n",
       "      <td>NaN</td>\n",
       "      <td>FALSTONE</td>\n",
       "      <td>NaN</td>\n",
       "      <td>AVE</td>\n",
       "      <td>09/02/2018 11:30:00 PM</td>\n",
       "      <td>09/03/2018 12:30:00 AM</td>\n",
       "      <td>38.966174</td>\n",
       "      <td>-77.096561</td>\n",
       "      <td>2D</td>\n",
       "      <td>(38.9662, -77.0966)</td>\n",
       "    </tr>\n",
       "    <tr>\n",
       "      <th>6</th>\n",
       "      <td>201121509</td>\n",
       "      <td>5213</td>\n",
       "      <td>17008780</td>\n",
       "      <td>NaN</td>\n",
       "      <td>520</td>\n",
       "      <td>1</td>\n",
       "      <td>Crime Against Society</td>\n",
       "      <td>Weapon Law Violations</td>\n",
       "      <td>WEAPON - FIRING</td>\n",
       "      <td>WHEATON</td>\n",
       "      <td>...</td>\n",
       "      <td>NaN</td>\n",
       "      <td>PUNCH</td>\n",
       "      <td>NaN</td>\n",
       "      <td>ST</td>\n",
       "      <td>02/18/2017 12:18:00 AM</td>\n",
       "      <td>NaN</td>\n",
       "      <td>39.088902</td>\n",
       "      <td>-77.042262</td>\n",
       "      <td>4D</td>\n",
       "      <td>(39.0889, -77.0423)</td>\n",
       "    </tr>\n",
       "    <tr>\n",
       "      <th>7</th>\n",
       "      <td>201091648</td>\n",
       "      <td>1103</td>\n",
       "      <td>16038843</td>\n",
       "      <td>NaN</td>\n",
       "      <td>11A</td>\n",
       "      <td>1</td>\n",
       "      <td>Crime Against Person</td>\n",
       "      <td>Forcible Rape</td>\n",
       "      <td>RAPE - STRONG-ARM</td>\n",
       "      <td>WHEATON</td>\n",
       "      <td>...</td>\n",
       "      <td>NaN</td>\n",
       "      <td>BEL PRE</td>\n",
       "      <td>NaN</td>\n",
       "      <td>RD</td>\n",
       "      <td>07/31/2016 11:00:00 PM</td>\n",
       "      <td>08/01/2016 05:32:00 AM</td>\n",
       "      <td>39.093783</td>\n",
       "      <td>-77.076369</td>\n",
       "      <td>4D</td>\n",
       "      <td>(39.0938, -77.0764)</td>\n",
       "    </tr>\n",
       "    <tr>\n",
       "      <th>8</th>\n",
       "      <td>201108886</td>\n",
       "      <td>1399</td>\n",
       "      <td>16060247</td>\n",
       "      <td>NaN</td>\n",
       "      <td>13B</td>\n",
       "      <td>1</td>\n",
       "      <td>Crime Against Person</td>\n",
       "      <td>Simple Assault</td>\n",
       "      <td>ASSAULT - 2ND DEGREE</td>\n",
       "      <td>SILVER SPRING</td>\n",
       "      <td>...</td>\n",
       "      <td>NaN</td>\n",
       "      <td>NORTHAMPTON</td>\n",
       "      <td>NaN</td>\n",
       "      <td>DR</td>\n",
       "      <td>11/20/2016 09:00:00 AM</td>\n",
       "      <td>NaN</td>\n",
       "      <td>39.008359</td>\n",
       "      <td>-76.985601</td>\n",
       "      <td>3D</td>\n",
       "      <td>(39.0084, -76.9856)</td>\n",
       "    </tr>\n",
       "    <tr>\n",
       "      <th>9</th>\n",
       "      <td>201124327</td>\n",
       "      <td>9199</td>\n",
       "      <td>17012248</td>\n",
       "      <td>NaN</td>\n",
       "      <td>90Z</td>\n",
       "      <td>1</td>\n",
       "      <td>Other</td>\n",
       "      <td>All Other Offenses</td>\n",
       "      <td>POLICE INFORMATION</td>\n",
       "      <td>WHEATON</td>\n",
       "      <td>...</td>\n",
       "      <td>NaN</td>\n",
       "      <td>GEORGIA</td>\n",
       "      <td>NaN</td>\n",
       "      <td>AVE</td>\n",
       "      <td>03/08/2017 02:03:00 PM</td>\n",
       "      <td>NaN</td>\n",
       "      <td>39.036218</td>\n",
       "      <td>-77.049887</td>\n",
       "      <td>4D</td>\n",
       "      <td>(39.0362, -77.0499)</td>\n",
       "    </tr>\n",
       "  </tbody>\n",
       "</table>\n",
       "<p>10 rows × 30 columns</p>\n",
       "</div>"
      ],
      "text/plain": [
       "   Incident ID Offence Code  CR Number    Dispatch Date / Time NIBRS Code  \\\n",
       "0    201202980         3550  180042096  08/23/2018 09:52:08 PM        35B   \n",
       "1    201181293         3522  180015424  03/30/2018 01:00:55 AM        35A   \n",
       "2    201181293         3562  180015424  03/30/2018 01:00:55 AM        35A   \n",
       "3    201193163         3520  180029476  06/14/2018 10:26:45 PM        35A   \n",
       "4    201204355         2204  180043926  09/03/2018 12:06:54 PM        220   \n",
       "5    201204355         2404  180043926  09/03/2018 12:06:54 PM        240   \n",
       "6    201121509         5213   17008780                     NaN        520   \n",
       "7    201091648         1103   16038843                     NaN        11A   \n",
       "8    201108886         1399   16060247                     NaN        13B   \n",
       "9    201124327         9199   17012248                     NaN        90Z   \n",
       "\n",
       "   Victims             Crime Name1                     Crime Name2  \\\n",
       "0        1   Crime Against Society       Drug Equipment Violations   \n",
       "1        1   Crime Against Society        Drug/Narcotic Violations   \n",
       "2        1   Crime Against Society        Drug/Narcotic Violations   \n",
       "3        1   Crime Against Society        Drug/Narcotic Violations   \n",
       "4        1  Crime Against Property  Burglary/Breaking and Entering   \n",
       "5        1  Crime Against Property             Motor Vehicle Theft   \n",
       "6        1   Crime Against Society           Weapon Law Violations   \n",
       "7        1    Crime Against Person                   Forcible Rape   \n",
       "8        1    Crime Against Person                  Simple Assault   \n",
       "9        1                   Other              All Other Offenses   \n",
       "\n",
       "                              Crime Name3 Police District Name  ...  \\\n",
       "0        DRUGS - NARCOTIC EQUIP - POSSESS           GERMANTOWN  ...   \n",
       "1   DRUGS - OPIUM OR DERIVATIVE - POSSESS             BETHESDA  ...   \n",
       "2             DRUGS - MARIJUANA - POSSESS             BETHESDA  ...   \n",
       "3      DRUGS - OPIUM OR DERIVATIVE - SELL   MONTGOMERY VILLAGE  ...   \n",
       "4  BURGLARY - NO FORCED ENTRY-RESIDENTIAL             BETHESDA  ...   \n",
       "5              AUTO THEFT - VEHICLE THEFT             BETHESDA  ...   \n",
       "6                         WEAPON - FIRING              WHEATON  ...   \n",
       "7                       RAPE - STRONG-ARM              WHEATON  ...   \n",
       "8                    ASSAULT - 2ND DEGREE        SILVER SPRING  ...   \n",
       "9                      POLICE INFORMATION              WHEATON  ...   \n",
       "\n",
       "  Street Prefix     Street Name Street Suffix  Street Type  \\\n",
       "0           NaN     MIDDLEBROOK           NaN           RD   \n",
       "1           NaN        WOODMONT           NaN          AVE   \n",
       "2           NaN        WOODMONT           NaN          AVE   \n",
       "3           NaN  QUINCE ORCHARD           NaN           RD   \n",
       "4           NaN        FALSTONE           NaN          AVE   \n",
       "5           NaN        FALSTONE           NaN          AVE   \n",
       "6           NaN           PUNCH           NaN           ST   \n",
       "7           NaN         BEL PRE           NaN           RD   \n",
       "8           NaN     NORTHAMPTON           NaN           DR   \n",
       "9           NaN         GEORGIA           NaN          AVE   \n",
       "\n",
       "          Start_Date_Time           End_Date_Time   Latitude  Longitude  \\\n",
       "0  08/23/2018 09:52:00 PM                     NaN  39.177744 -77.265619   \n",
       "1  03/30/2018 01:01:00 AM                     NaN  38.992693 -77.097063   \n",
       "2  03/30/2018 01:01:00 AM                     NaN  38.992693 -77.097063   \n",
       "3  06/14/2018 10:26:00 PM  06/15/2018 03:00:00 AM  39.147954 -77.218189   \n",
       "4  09/02/2018 11:30:00 PM  09/03/2018 12:30:00 AM  38.966174 -77.096561   \n",
       "5  09/02/2018 11:30:00 PM  09/03/2018 12:30:00 AM  38.966174 -77.096561   \n",
       "6  02/18/2017 12:18:00 AM                     NaN  39.088902 -77.042262   \n",
       "7  07/31/2016 11:00:00 PM  08/01/2016 05:32:00 AM  39.093783 -77.076369   \n",
       "8  11/20/2016 09:00:00 AM                     NaN  39.008359 -76.985601   \n",
       "9  03/08/2017 02:03:00 PM                     NaN  39.036218 -77.049887   \n",
       "\n",
       "  Police District Number             Location  \n",
       "0                     5D  (39.1777, -77.2656)  \n",
       "1                     2D  (38.9927, -77.0971)  \n",
       "2                     2D  (38.9927, -77.0971)  \n",
       "3                     6D   (39.148, -77.2182)  \n",
       "4                     2D  (38.9662, -77.0966)  \n",
       "5                     2D  (38.9662, -77.0966)  \n",
       "6                     4D  (39.0889, -77.0423)  \n",
       "7                     4D  (39.0938, -77.0764)  \n",
       "8                     3D  (39.0084, -76.9856)  \n",
       "9                     4D  (39.0362, -77.0499)  \n",
       "\n",
       "[10 rows x 30 columns]"
      ]
     },
     "execution_count": 27,
     "metadata": {},
     "output_type": "execute_result"
    }
   ],
   "source": [
    "df.head(10)"
   ]
  },
  {
   "cell_type": "markdown",
   "metadata": {},
   "source": [
    "## The difference between '.loc' and '.iloc'"
   ]
  },
  {
   "cell_type": "code",
   "execution_count": 30,
   "metadata": {},
   "outputs": [],
   "source": [
    "animal = pd.Series(['cat', 'dog', 'bird', 'frog'], index = [0, 3, 8, 9])"
   ]
  },
  {
   "cell_type": "code",
   "execution_count": 31,
   "metadata": {},
   "outputs": [
    {
     "data": {
      "text/plain": [
       "0     cat\n",
       "3     dog\n",
       "8    bird\n",
       "9    frog\n",
       "dtype: object"
      ]
     },
     "execution_count": 31,
     "metadata": {},
     "output_type": "execute_result"
    }
   ],
   "source": [
    "animal"
   ]
  },
  {
   "cell_type": "code",
   "execution_count": 33,
   "metadata": {},
   "outputs": [
    {
     "data": {
      "text/plain": [
       "'dog'"
      ]
     },
     "execution_count": 33,
     "metadata": {},
     "output_type": "execute_result"
    }
   ],
   "source": [
    "animal.loc[3]"
   ]
  },
  {
   "cell_type": "code",
   "execution_count": 34,
   "metadata": {},
   "outputs": [
    {
     "data": {
      "text/plain": [
       "'frog'"
      ]
     },
     "execution_count": 34,
     "metadata": {},
     "output_type": "execute_result"
    }
   ],
   "source": [
    "animal.iloc[3]"
   ]
  },
  {
   "cell_type": "code",
   "execution_count": 35,
   "metadata": {},
   "outputs": [
    {
     "data": {
      "text/plain": [
       "3     dog\n",
       "8    bird\n",
       "9    frog\n",
       "dtype: object"
      ]
     },
     "execution_count": 35,
     "metadata": {},
     "output_type": "execute_result"
    }
   ],
   "source": [
    "animal.iloc[1:]"
   ]
  },
  {
   "cell_type": "code",
   "execution_count": 36,
   "metadata": {},
   "outputs": [
    {
     "data": {
      "text/html": [
       "<div>\n",
       "<style scoped>\n",
       "    .dataframe tbody tr th:only-of-type {\n",
       "        vertical-align: middle;\n",
       "    }\n",
       "\n",
       "    .dataframe tbody tr th {\n",
       "        vertical-align: top;\n",
       "    }\n",
       "\n",
       "    .dataframe thead th {\n",
       "        text-align: right;\n",
       "    }\n",
       "</style>\n",
       "<table border=\"1\" class=\"dataframe\">\n",
       "  <thead>\n",
       "    <tr style=\"text-align: right;\">\n",
       "      <th></th>\n",
       "      <th>Incident ID</th>\n",
       "      <th>Offence Code</th>\n",
       "      <th>CR Number</th>\n",
       "      <th>Dispatch Date / Time</th>\n",
       "      <th>NIBRS Code</th>\n",
       "      <th>Victims</th>\n",
       "      <th>Crime Name1</th>\n",
       "      <th>Crime Name2</th>\n",
       "      <th>Crime Name3</th>\n",
       "      <th>Police District Name</th>\n",
       "      <th>...</th>\n",
       "      <th>Street Prefix</th>\n",
       "      <th>Street Name</th>\n",
       "      <th>Street Suffix</th>\n",
       "      <th>Street Type</th>\n",
       "      <th>Start_Date_Time</th>\n",
       "      <th>End_Date_Time</th>\n",
       "      <th>Latitude</th>\n",
       "      <th>Longitude</th>\n",
       "      <th>Police District Number</th>\n",
       "      <th>Location</th>\n",
       "    </tr>\n",
       "  </thead>\n",
       "  <tbody>\n",
       "    <tr>\n",
       "      <th>2</th>\n",
       "      <td>201181293</td>\n",
       "      <td>3562</td>\n",
       "      <td>180015424</td>\n",
       "      <td>03/30/2018 01:00:55 AM</td>\n",
       "      <td>35A</td>\n",
       "      <td>1</td>\n",
       "      <td>Crime Against Society</td>\n",
       "      <td>Drug/Narcotic Violations</td>\n",
       "      <td>DRUGS - MARIJUANA - POSSESS</td>\n",
       "      <td>BETHESDA</td>\n",
       "      <td>...</td>\n",
       "      <td>NaN</td>\n",
       "      <td>WOODMONT</td>\n",
       "      <td>NaN</td>\n",
       "      <td>AVE</td>\n",
       "      <td>03/30/2018 01:01:00 AM</td>\n",
       "      <td>NaN</td>\n",
       "      <td>38.992693</td>\n",
       "      <td>-77.097063</td>\n",
       "      <td>2D</td>\n",
       "      <td>(38.9927, -77.0971)</td>\n",
       "    </tr>\n",
       "    <tr>\n",
       "      <th>3</th>\n",
       "      <td>201193163</td>\n",
       "      <td>3520</td>\n",
       "      <td>180029476</td>\n",
       "      <td>06/14/2018 10:26:45 PM</td>\n",
       "      <td>35A</td>\n",
       "      <td>1</td>\n",
       "      <td>Crime Against Society</td>\n",
       "      <td>Drug/Narcotic Violations</td>\n",
       "      <td>DRUGS - OPIUM OR DERIVATIVE - SELL</td>\n",
       "      <td>MONTGOMERY VILLAGE</td>\n",
       "      <td>...</td>\n",
       "      <td>NaN</td>\n",
       "      <td>QUINCE ORCHARD</td>\n",
       "      <td>NaN</td>\n",
       "      <td>RD</td>\n",
       "      <td>06/14/2018 10:26:00 PM</td>\n",
       "      <td>06/15/2018 03:00:00 AM</td>\n",
       "      <td>39.147954</td>\n",
       "      <td>-77.218189</td>\n",
       "      <td>6D</td>\n",
       "      <td>(39.148, -77.2182)</td>\n",
       "    </tr>\n",
       "    <tr>\n",
       "      <th>4</th>\n",
       "      <td>201204355</td>\n",
       "      <td>2204</td>\n",
       "      <td>180043926</td>\n",
       "      <td>09/03/2018 12:06:54 PM</td>\n",
       "      <td>220</td>\n",
       "      <td>1</td>\n",
       "      <td>Crime Against Property</td>\n",
       "      <td>Burglary/Breaking and Entering</td>\n",
       "      <td>BURGLARY - NO FORCED ENTRY-RESIDENTIAL</td>\n",
       "      <td>BETHESDA</td>\n",
       "      <td>...</td>\n",
       "      <td>NaN</td>\n",
       "      <td>FALSTONE</td>\n",
       "      <td>NaN</td>\n",
       "      <td>AVE</td>\n",
       "      <td>09/02/2018 11:30:00 PM</td>\n",
       "      <td>09/03/2018 12:30:00 AM</td>\n",
       "      <td>38.966174</td>\n",
       "      <td>-77.096561</td>\n",
       "      <td>2D</td>\n",
       "      <td>(38.9662, -77.0966)</td>\n",
       "    </tr>\n",
       "    <tr>\n",
       "      <th>5</th>\n",
       "      <td>201204355</td>\n",
       "      <td>2404</td>\n",
       "      <td>180043926</td>\n",
       "      <td>09/03/2018 12:06:54 PM</td>\n",
       "      <td>240</td>\n",
       "      <td>1</td>\n",
       "      <td>Crime Against Property</td>\n",
       "      <td>Motor Vehicle Theft</td>\n",
       "      <td>AUTO THEFT - VEHICLE THEFT</td>\n",
       "      <td>BETHESDA</td>\n",
       "      <td>...</td>\n",
       "      <td>NaN</td>\n",
       "      <td>FALSTONE</td>\n",
       "      <td>NaN</td>\n",
       "      <td>AVE</td>\n",
       "      <td>09/02/2018 11:30:00 PM</td>\n",
       "      <td>09/03/2018 12:30:00 AM</td>\n",
       "      <td>38.966174</td>\n",
       "      <td>-77.096561</td>\n",
       "      <td>2D</td>\n",
       "      <td>(38.9662, -77.0966)</td>\n",
       "    </tr>\n",
       "  </tbody>\n",
       "</table>\n",
       "<p>4 rows × 30 columns</p>\n",
       "</div>"
      ],
      "text/plain": [
       "   Incident ID Offence Code  CR Number    Dispatch Date / Time NIBRS Code  \\\n",
       "2    201181293         3562  180015424  03/30/2018 01:00:55 AM        35A   \n",
       "3    201193163         3520  180029476  06/14/2018 10:26:45 PM        35A   \n",
       "4    201204355         2204  180043926  09/03/2018 12:06:54 PM        220   \n",
       "5    201204355         2404  180043926  09/03/2018 12:06:54 PM        240   \n",
       "\n",
       "   Victims             Crime Name1                     Crime Name2  \\\n",
       "2        1   Crime Against Society        Drug/Narcotic Violations   \n",
       "3        1   Crime Against Society        Drug/Narcotic Violations   \n",
       "4        1  Crime Against Property  Burglary/Breaking and Entering   \n",
       "5        1  Crime Against Property             Motor Vehicle Theft   \n",
       "\n",
       "                              Crime Name3 Police District Name  ...  \\\n",
       "2             DRUGS - MARIJUANA - POSSESS             BETHESDA  ...   \n",
       "3      DRUGS - OPIUM OR DERIVATIVE - SELL   MONTGOMERY VILLAGE  ...   \n",
       "4  BURGLARY - NO FORCED ENTRY-RESIDENTIAL             BETHESDA  ...   \n",
       "5              AUTO THEFT - VEHICLE THEFT             BETHESDA  ...   \n",
       "\n",
       "  Street Prefix     Street Name Street Suffix  Street Type  \\\n",
       "2           NaN        WOODMONT           NaN          AVE   \n",
       "3           NaN  QUINCE ORCHARD           NaN           RD   \n",
       "4           NaN        FALSTONE           NaN          AVE   \n",
       "5           NaN        FALSTONE           NaN          AVE   \n",
       "\n",
       "          Start_Date_Time           End_Date_Time   Latitude  Longitude  \\\n",
       "2  03/30/2018 01:01:00 AM                     NaN  38.992693 -77.097063   \n",
       "3  06/14/2018 10:26:00 PM  06/15/2018 03:00:00 AM  39.147954 -77.218189   \n",
       "4  09/02/2018 11:30:00 PM  09/03/2018 12:30:00 AM  38.966174 -77.096561   \n",
       "5  09/02/2018 11:30:00 PM  09/03/2018 12:30:00 AM  38.966174 -77.096561   \n",
       "\n",
       "  Police District Number             Location  \n",
       "2                     2D  (38.9927, -77.0971)  \n",
       "3                     6D   (39.148, -77.2182)  \n",
       "4                     2D  (38.9662, -77.0966)  \n",
       "5                     2D  (38.9662, -77.0966)  \n",
       "\n",
       "[4 rows x 30 columns]"
      ]
     },
     "execution_count": 36,
     "metadata": {},
     "output_type": "execute_result"
    }
   ],
   "source": [
    "df.loc[2:5]"
   ]
  },
  {
   "cell_type": "markdown",
   "metadata": {},
   "source": [
    "## View a specific column"
   ]
  },
  {
   "cell_type": "code",
   "execution_count": 39,
   "metadata": {},
   "outputs": [
    {
     "data": {
      "text/plain": [
       "0                 germantown\n",
       "1                   bethesda\n",
       "2                   bethesda\n",
       "3               gaithersburg\n",
       "4                chevy chase\n",
       "                 ...        \n",
       "306089    montgomery village\n",
       "306090         silver spring\n",
       "306091            germantown\n",
       "306092         silver spring\n",
       "306093            kensington\n",
       "Name: City, Length: 306094, dtype: object"
      ]
     },
     "execution_count": 39,
     "metadata": {},
     "output_type": "execute_result"
    }
   ],
   "source": [
    "df['City'].str.lower()"
   ]
  },
  {
   "cell_type": "markdown",
   "metadata": {},
   "source": [
    "## Filtering data"
   ]
  },
  {
   "cell_type": "code",
   "execution_count": 40,
   "metadata": {},
   "outputs": [
    {
     "data": {
      "text/plain": [
       "Index(['Incident ID', 'Offence Code', 'CR Number', 'Dispatch Date / Time',\n",
       "       'NIBRS Code', 'Victims', 'Crime Name1', 'Crime Name2', 'Crime Name3',\n",
       "       'Police District Name', 'Block Address', 'City', 'State', 'Zip Code',\n",
       "       'Agency', 'Place', 'Sector', 'Beat', 'PRA', 'Address Number',\n",
       "       'Street Prefix', 'Street Name', 'Street Suffix', 'Street Type',\n",
       "       'Start_Date_Time', 'End_Date_Time', 'Latitude', 'Longitude',\n",
       "       'Police District Number', 'Location'],\n",
       "      dtype='object')"
      ]
     },
     "execution_count": 40,
     "metadata": {},
     "output_type": "execute_result"
    }
   ],
   "source": [
    "df.columns"
   ]
  },
  {
   "cell_type": "code",
   "execution_count": 41,
   "metadata": {},
   "outputs": [
    {
     "data": {
      "text/plain": [
       "array(['Crime Against Society', 'Crime Against Property',\n",
       "       'Crime Against Person', 'Other', 'Not a Crime', nan], dtype=object)"
      ]
     },
     "execution_count": 41,
     "metadata": {},
     "output_type": "execute_result"
    }
   ],
   "source": [
    "df['Crime Name1'].unique()"
   ]
  },
  {
   "cell_type": "code",
   "execution_count": 42,
   "metadata": {},
   "outputs": [
    {
     "data": {
      "text/plain": [
       "(306094, 30)"
      ]
     },
     "execution_count": 42,
     "metadata": {},
     "output_type": "execute_result"
    }
   ],
   "source": [
    "df.shape"
   ]
  },
  {
   "cell_type": "code",
   "execution_count": 45,
   "metadata": {},
   "outputs": [],
   "source": [
    "df_crimes = df[df['Crime Name1'] != \"Not a Crime\"]"
   ]
  },
  {
   "cell_type": "code",
   "execution_count": 46,
   "metadata": {},
   "outputs": [
    {
     "data": {
      "text/plain": [
       "(302519, 30)"
      ]
     },
     "execution_count": 46,
     "metadata": {},
     "output_type": "execute_result"
    }
   ],
   "source": [
    "df_crimes.shape"
   ]
  },
  {
   "cell_type": "code",
   "execution_count": 48,
   "metadata": {},
   "outputs": [
    {
     "data": {
      "text/plain": [
       "Crime Name1\n",
       "Crime Against Person       30270\n",
       "Crime Against Property    139882\n",
       "Crime Against Society      68917\n",
       "Other                      63178\n",
       "dtype: int64"
      ]
     },
     "execution_count": 48,
     "metadata": {},
     "output_type": "execute_result"
    }
   ],
   "source": [
    "df_crimes.groupby(['Crime Name1']).size()"
   ]
  },
  {
   "cell_type": "markdown",
   "metadata": {},
   "source": [
    "## Manipulating data (cleaning data)"
   ]
  },
  {
   "cell_type": "markdown",
   "metadata": {},
   "source": [
    "Questions: \n",
    "- Explore relationships between different crimes at different times"
   ]
  },
  {
   "cell_type": "markdown",
   "metadata": {},
   "source": [
    "Possible cleaning steps: \n",
    "1. Could possibly encode categorical variables** good for some ML models\n",
    "2. Removing duplicates\n",
    "3. Dealing with null values\n",
    "4. Removing things we don't care about (non-crimes)\n",
    "5. Standardize strings"
   ]
  },
  {
   "cell_type": "code",
   "execution_count": 49,
   "metadata": {},
   "outputs": [
    {
     "data": {
      "text/plain": [
       "array(['Crime Against Society', 'Crime Against Property',\n",
       "       'Crime Against Person', 'Other', 'Not a Crime', nan], dtype=object)"
      ]
     },
     "execution_count": 49,
     "metadata": {},
     "output_type": "execute_result"
    }
   ],
   "source": [
    "df['Crime Name1'].unique()"
   ]
  },
  {
   "cell_type": "code",
   "execution_count": 50,
   "metadata": {},
   "outputs": [],
   "source": [
    "df['Crime Name1'] = df['Crime Name1'].str.lower()"
   ]
  },
  {
   "cell_type": "code",
   "execution_count": 51,
   "metadata": {},
   "outputs": [
    {
     "data": {
      "text/plain": [
       "array(['crime against society', 'crime against property',\n",
       "       'crime against person', 'other', 'not a crime', nan], dtype=object)"
      ]
     },
     "execution_count": 51,
     "metadata": {},
     "output_type": "execute_result"
    }
   ],
   "source": [
    "df['Crime Name1'].unique()"
   ]
  },
  {
   "cell_type": "markdown",
   "metadata": {},
   "source": [
    "### Remove duplicates"
   ]
  },
  {
   "cell_type": "code",
   "execution_count": 53,
   "metadata": {},
   "outputs": [
    {
     "data": {
      "text/plain": [
       "(306094, 30)"
      ]
     },
     "execution_count": 53,
     "metadata": {},
     "output_type": "execute_result"
    }
   ],
   "source": [
    "df.shape"
   ]
  },
  {
   "cell_type": "code",
   "execution_count": 60,
   "metadata": {},
   "outputs": [],
   "source": [
    "df = df.drop_duplicates()"
   ]
  },
  {
   "cell_type": "markdown",
   "metadata": {},
   "source": [
    "### Dealing with null values"
   ]
  },
  {
   "cell_type": "markdown",
   "metadata": {},
   "source": [
    "### Columns we care about:\n",
    "\n",
    "1. Crime Name1\n",
    "2. Crime Name2\n",
    "3. Crime Name3\n",
    "4. Dispatch data/time"
   ]
  },
  {
   "cell_type": "code",
   "execution_count": 64,
   "metadata": {},
   "outputs": [],
   "source": [
    "df_clean = df[['Crime Name1', 'Crime Name2', 'Crime Name3', 'Dispatch Date / Time']]"
   ]
  },
  {
   "cell_type": "code",
   "execution_count": 65,
   "metadata": {},
   "outputs": [
    {
     "data": {
      "text/plain": [
       "Crime Name1               272\n",
       "Crime Name2               272\n",
       "Crime Name3               272\n",
       "Dispatch Date / Time    49029\n",
       "dtype: int64"
      ]
     },
     "execution_count": 65,
     "metadata": {},
     "output_type": "execute_result"
    }
   ],
   "source": [
    "df_clean.isnull().sum()"
   ]
  },
  {
   "cell_type": "code",
   "execution_count": 67,
   "metadata": {},
   "outputs": [
    {
     "data": {
      "text/html": [
       "<div>\n",
       "<style scoped>\n",
       "    .dataframe tbody tr th:only-of-type {\n",
       "        vertical-align: middle;\n",
       "    }\n",
       "\n",
       "    .dataframe tbody tr th {\n",
       "        vertical-align: top;\n",
       "    }\n",
       "\n",
       "    .dataframe thead th {\n",
       "        text-align: right;\n",
       "    }\n",
       "</style>\n",
       "<table border=\"1\" class=\"dataframe\">\n",
       "  <thead>\n",
       "    <tr style=\"text-align: right;\">\n",
       "      <th></th>\n",
       "      <th>Crime Name1</th>\n",
       "      <th>Crime Name2</th>\n",
       "      <th>Crime Name3</th>\n",
       "      <th>Dispatch Date / Time</th>\n",
       "    </tr>\n",
       "  </thead>\n",
       "  <tbody>\n",
       "    <tr>\n",
       "      <th>0</th>\n",
       "      <td>crime against society</td>\n",
       "      <td>Drug Equipment Violations</td>\n",
       "      <td>DRUGS - NARCOTIC EQUIP - POSSESS</td>\n",
       "      <td>08/23/2018 09:52:08 PM</td>\n",
       "    </tr>\n",
       "    <tr>\n",
       "      <th>1</th>\n",
       "      <td>crime against society</td>\n",
       "      <td>Drug/Narcotic Violations</td>\n",
       "      <td>DRUGS - OPIUM OR DERIVATIVE - POSSESS</td>\n",
       "      <td>03/30/2018 01:00:55 AM</td>\n",
       "    </tr>\n",
       "    <tr>\n",
       "      <th>2</th>\n",
       "      <td>crime against society</td>\n",
       "      <td>Drug/Narcotic Violations</td>\n",
       "      <td>DRUGS - MARIJUANA - POSSESS</td>\n",
       "      <td>03/30/2018 01:00:55 AM</td>\n",
       "    </tr>\n",
       "    <tr>\n",
       "      <th>3</th>\n",
       "      <td>crime against society</td>\n",
       "      <td>Drug/Narcotic Violations</td>\n",
       "      <td>DRUGS - OPIUM OR DERIVATIVE - SELL</td>\n",
       "      <td>06/14/2018 10:26:45 PM</td>\n",
       "    </tr>\n",
       "    <tr>\n",
       "      <th>4</th>\n",
       "      <td>crime against property</td>\n",
       "      <td>Burglary/Breaking and Entering</td>\n",
       "      <td>BURGLARY - NO FORCED ENTRY-RESIDENTIAL</td>\n",
       "      <td>09/03/2018 12:06:54 PM</td>\n",
       "    </tr>\n",
       "    <tr>\n",
       "      <th>...</th>\n",
       "      <td>...</td>\n",
       "      <td>...</td>\n",
       "      <td>...</td>\n",
       "      <td>...</td>\n",
       "    </tr>\n",
       "    <tr>\n",
       "      <th>306089</th>\n",
       "      <td>crime against person</td>\n",
       "      <td>Simple Assault</td>\n",
       "      <td>ASSAULT - 2ND DEGREE</td>\n",
       "      <td>02/21/2021 07:25:28 AM</td>\n",
       "    </tr>\n",
       "    <tr>\n",
       "      <th>306090</th>\n",
       "      <td>crime against property</td>\n",
       "      <td>Theft From Motor Vehicle</td>\n",
       "      <td>LARCENY - FROM AUTO</td>\n",
       "      <td>05/06/2021 10:54:47 PM</td>\n",
       "    </tr>\n",
       "    <tr>\n",
       "      <th>306091</th>\n",
       "      <td>crime against society</td>\n",
       "      <td>All Other Offenses</td>\n",
       "      <td>OBSTRUCT GOVT - VIOLATION OF A COURT ORDER</td>\n",
       "      <td>05/05/2021 10:38:58 PM</td>\n",
       "    </tr>\n",
       "    <tr>\n",
       "      <th>306092</th>\n",
       "      <td>crime against society</td>\n",
       "      <td>All Other Offenses</td>\n",
       "      <td>ALL OTHER OFFENSES</td>\n",
       "      <td>03/13/2021 12:07:14 PM</td>\n",
       "    </tr>\n",
       "    <tr>\n",
       "      <th>306093</th>\n",
       "      <td>crime against property</td>\n",
       "      <td>Theft From Motor Vehicle</td>\n",
       "      <td>LARCENY - FROM AUTO</td>\n",
       "      <td>04/19/2021 02:17:29 PM</td>\n",
       "    </tr>\n",
       "  </tbody>\n",
       "</table>\n",
       "<p>256799 rows × 4 columns</p>\n",
       "</div>"
      ],
      "text/plain": [
       "                   Crime Name1                     Crime Name2  \\\n",
       "0        crime against society       Drug Equipment Violations   \n",
       "1        crime against society        Drug/Narcotic Violations   \n",
       "2        crime against society        Drug/Narcotic Violations   \n",
       "3        crime against society        Drug/Narcotic Violations   \n",
       "4       crime against property  Burglary/Breaking and Entering   \n",
       "...                        ...                             ...   \n",
       "306089    crime against person                  Simple Assault   \n",
       "306090  crime against property        Theft From Motor Vehicle   \n",
       "306091   crime against society              All Other Offenses   \n",
       "306092   crime against society              All Other Offenses   \n",
       "306093  crime against property        Theft From Motor Vehicle   \n",
       "\n",
       "                                       Crime Name3    Dispatch Date / Time  \n",
       "0                 DRUGS - NARCOTIC EQUIP - POSSESS  08/23/2018 09:52:08 PM  \n",
       "1            DRUGS - OPIUM OR DERIVATIVE - POSSESS  03/30/2018 01:00:55 AM  \n",
       "2                      DRUGS - MARIJUANA - POSSESS  03/30/2018 01:00:55 AM  \n",
       "3               DRUGS - OPIUM OR DERIVATIVE - SELL  06/14/2018 10:26:45 PM  \n",
       "4           BURGLARY - NO FORCED ENTRY-RESIDENTIAL  09/03/2018 12:06:54 PM  \n",
       "...                                            ...                     ...  \n",
       "306089                        ASSAULT - 2ND DEGREE  02/21/2021 07:25:28 AM  \n",
       "306090                         LARCENY - FROM AUTO  05/06/2021 10:54:47 PM  \n",
       "306091  OBSTRUCT GOVT - VIOLATION OF A COURT ORDER  05/05/2021 10:38:58 PM  \n",
       "306092                          ALL OTHER OFFENSES  03/13/2021 12:07:14 PM  \n",
       "306093                         LARCENY - FROM AUTO  04/19/2021 02:17:29 PM  \n",
       "\n",
       "[256799 rows x 4 columns]"
      ]
     },
     "execution_count": 67,
     "metadata": {},
     "output_type": "execute_result"
    }
   ],
   "source": [
    "df_clean.dropna()"
   ]
  },
  {
   "cell_type": "code",
   "execution_count": 68,
   "metadata": {},
   "outputs": [
    {
     "data": {
      "text/plain": [
       "(306094, 4)"
      ]
     },
     "execution_count": 68,
     "metadata": {},
     "output_type": "execute_result"
    }
   ],
   "source": [
    "df_clean.shape"
   ]
  },
  {
   "cell_type": "code",
   "execution_count": 69,
   "metadata": {},
   "outputs": [
    {
     "data": {
      "text/html": [
       "<div>\n",
       "<style scoped>\n",
       "    .dataframe tbody tr th:only-of-type {\n",
       "        vertical-align: middle;\n",
       "    }\n",
       "\n",
       "    .dataframe tbody tr th {\n",
       "        vertical-align: top;\n",
       "    }\n",
       "\n",
       "    .dataframe thead th {\n",
       "        text-align: right;\n",
       "    }\n",
       "</style>\n",
       "<table border=\"1\" class=\"dataframe\">\n",
       "  <thead>\n",
       "    <tr style=\"text-align: right;\">\n",
       "      <th></th>\n",
       "      <th>Crime Name1</th>\n",
       "      <th>Crime Name2</th>\n",
       "      <th>Crime Name3</th>\n",
       "      <th>Dispatch Date / Time</th>\n",
       "    </tr>\n",
       "  </thead>\n",
       "  <tbody>\n",
       "    <tr>\n",
       "      <th>0</th>\n",
       "      <td>crime against society</td>\n",
       "      <td>Drug Equipment Violations</td>\n",
       "      <td>DRUGS - NARCOTIC EQUIP - POSSESS</td>\n",
       "      <td>08/23/2018 09:52:08 PM</td>\n",
       "    </tr>\n",
       "    <tr>\n",
       "      <th>1</th>\n",
       "      <td>crime against society</td>\n",
       "      <td>Drug/Narcotic Violations</td>\n",
       "      <td>DRUGS - OPIUM OR DERIVATIVE - POSSESS</td>\n",
       "      <td>03/30/2018 01:00:55 AM</td>\n",
       "    </tr>\n",
       "    <tr>\n",
       "      <th>2</th>\n",
       "      <td>crime against society</td>\n",
       "      <td>Drug/Narcotic Violations</td>\n",
       "      <td>DRUGS - MARIJUANA - POSSESS</td>\n",
       "      <td>03/30/2018 01:00:55 AM</td>\n",
       "    </tr>\n",
       "    <tr>\n",
       "      <th>3</th>\n",
       "      <td>crime against society</td>\n",
       "      <td>Drug/Narcotic Violations</td>\n",
       "      <td>DRUGS - OPIUM OR DERIVATIVE - SELL</td>\n",
       "      <td>06/14/2018 10:26:45 PM</td>\n",
       "    </tr>\n",
       "    <tr>\n",
       "      <th>4</th>\n",
       "      <td>crime against property</td>\n",
       "      <td>Burglary/Breaking and Entering</td>\n",
       "      <td>BURGLARY - NO FORCED ENTRY-RESIDENTIAL</td>\n",
       "      <td>09/03/2018 12:06:54 PM</td>\n",
       "    </tr>\n",
       "  </tbody>\n",
       "</table>\n",
       "</div>"
      ],
      "text/plain": [
       "              Crime Name1                     Crime Name2  \\\n",
       "0   crime against society       Drug Equipment Violations   \n",
       "1   crime against society        Drug/Narcotic Violations   \n",
       "2   crime against society        Drug/Narcotic Violations   \n",
       "3   crime against society        Drug/Narcotic Violations   \n",
       "4  crime against property  Burglary/Breaking and Entering   \n",
       "\n",
       "                              Crime Name3    Dispatch Date / Time  \n",
       "0        DRUGS - NARCOTIC EQUIP - POSSESS  08/23/2018 09:52:08 PM  \n",
       "1   DRUGS - OPIUM OR DERIVATIVE - POSSESS  03/30/2018 01:00:55 AM  \n",
       "2             DRUGS - MARIJUANA - POSSESS  03/30/2018 01:00:55 AM  \n",
       "3      DRUGS - OPIUM OR DERIVATIVE - SELL  06/14/2018 10:26:45 PM  \n",
       "4  BURGLARY - NO FORCED ENTRY-RESIDENTIAL  09/03/2018 12:06:54 PM  "
      ]
     },
     "execution_count": 69,
     "metadata": {},
     "output_type": "execute_result"
    }
   ],
   "source": [
    "df_clean.head()"
   ]
  },
  {
   "cell_type": "code",
   "execution_count": 70,
   "metadata": {},
   "outputs": [
    {
     "name": "stderr",
     "output_type": "stream",
     "text": [
      "/var/folders/t4/fc819y_d12x4mw_4wctsmrnc0000gn/T/ipykernel_18912/680316986.py:1: UserWarning: Could not infer format, so each element will be parsed individually, falling back to `dateutil`. To ensure parsing is consistent and as-expected, please specify a format.\n",
      "  df_clean['date'] = pd.to_datetime(df_clean['Dispatch Date / Time'])\n",
      "/var/folders/t4/fc819y_d12x4mw_4wctsmrnc0000gn/T/ipykernel_18912/680316986.py:1: SettingWithCopyWarning: \n",
      "A value is trying to be set on a copy of a slice from a DataFrame.\n",
      "Try using .loc[row_indexer,col_indexer] = value instead\n",
      "\n",
      "See the caveats in the documentation: https://pandas.pydata.org/pandas-docs/stable/user_guide/indexing.html#returning-a-view-versus-a-copy\n",
      "  df_clean['date'] = pd.to_datetime(df_clean['Dispatch Date / Time'])\n"
     ]
    }
   ],
   "source": [
    "df_clean['date'] = pd.to_datetime(df_clean['Dispatch Date / Time'])"
   ]
  },
  {
   "cell_type": "code",
   "execution_count": 71,
   "metadata": {},
   "outputs": [
    {
     "data": {
      "text/html": [
       "<div>\n",
       "<style scoped>\n",
       "    .dataframe tbody tr th:only-of-type {\n",
       "        vertical-align: middle;\n",
       "    }\n",
       "\n",
       "    .dataframe tbody tr th {\n",
       "        vertical-align: top;\n",
       "    }\n",
       "\n",
       "    .dataframe thead th {\n",
       "        text-align: right;\n",
       "    }\n",
       "</style>\n",
       "<table border=\"1\" class=\"dataframe\">\n",
       "  <thead>\n",
       "    <tr style=\"text-align: right;\">\n",
       "      <th></th>\n",
       "      <th>Crime Name1</th>\n",
       "      <th>Crime Name2</th>\n",
       "      <th>Crime Name3</th>\n",
       "      <th>Dispatch Date / Time</th>\n",
       "      <th>date</th>\n",
       "    </tr>\n",
       "  </thead>\n",
       "  <tbody>\n",
       "    <tr>\n",
       "      <th>0</th>\n",
       "      <td>crime against society</td>\n",
       "      <td>Drug Equipment Violations</td>\n",
       "      <td>DRUGS - NARCOTIC EQUIP - POSSESS</td>\n",
       "      <td>08/23/2018 09:52:08 PM</td>\n",
       "      <td>2018-08-23 21:52:08</td>\n",
       "    </tr>\n",
       "    <tr>\n",
       "      <th>1</th>\n",
       "      <td>crime against society</td>\n",
       "      <td>Drug/Narcotic Violations</td>\n",
       "      <td>DRUGS - OPIUM OR DERIVATIVE - POSSESS</td>\n",
       "      <td>03/30/2018 01:00:55 AM</td>\n",
       "      <td>2018-03-30 01:00:55</td>\n",
       "    </tr>\n",
       "    <tr>\n",
       "      <th>2</th>\n",
       "      <td>crime against society</td>\n",
       "      <td>Drug/Narcotic Violations</td>\n",
       "      <td>DRUGS - MARIJUANA - POSSESS</td>\n",
       "      <td>03/30/2018 01:00:55 AM</td>\n",
       "      <td>2018-03-30 01:00:55</td>\n",
       "    </tr>\n",
       "    <tr>\n",
       "      <th>3</th>\n",
       "      <td>crime against society</td>\n",
       "      <td>Drug/Narcotic Violations</td>\n",
       "      <td>DRUGS - OPIUM OR DERIVATIVE - SELL</td>\n",
       "      <td>06/14/2018 10:26:45 PM</td>\n",
       "      <td>2018-06-14 22:26:45</td>\n",
       "    </tr>\n",
       "    <tr>\n",
       "      <th>4</th>\n",
       "      <td>crime against property</td>\n",
       "      <td>Burglary/Breaking and Entering</td>\n",
       "      <td>BURGLARY - NO FORCED ENTRY-RESIDENTIAL</td>\n",
       "      <td>09/03/2018 12:06:54 PM</td>\n",
       "      <td>2018-09-03 12:06:54</td>\n",
       "    </tr>\n",
       "  </tbody>\n",
       "</table>\n",
       "</div>"
      ],
      "text/plain": [
       "              Crime Name1                     Crime Name2  \\\n",
       "0   crime against society       Drug Equipment Violations   \n",
       "1   crime against society        Drug/Narcotic Violations   \n",
       "2   crime against society        Drug/Narcotic Violations   \n",
       "3   crime against society        Drug/Narcotic Violations   \n",
       "4  crime against property  Burglary/Breaking and Entering   \n",
       "\n",
       "                              Crime Name3    Dispatch Date / Time  \\\n",
       "0        DRUGS - NARCOTIC EQUIP - POSSESS  08/23/2018 09:52:08 PM   \n",
       "1   DRUGS - OPIUM OR DERIVATIVE - POSSESS  03/30/2018 01:00:55 AM   \n",
       "2             DRUGS - MARIJUANA - POSSESS  03/30/2018 01:00:55 AM   \n",
       "3      DRUGS - OPIUM OR DERIVATIVE - SELL  06/14/2018 10:26:45 PM   \n",
       "4  BURGLARY - NO FORCED ENTRY-RESIDENTIAL  09/03/2018 12:06:54 PM   \n",
       "\n",
       "                 date  \n",
       "0 2018-08-23 21:52:08  \n",
       "1 2018-03-30 01:00:55  \n",
       "2 2018-03-30 01:00:55  \n",
       "3 2018-06-14 22:26:45  \n",
       "4 2018-09-03 12:06:54  "
      ]
     },
     "execution_count": 71,
     "metadata": {},
     "output_type": "execute_result"
    }
   ],
   "source": [
    "df_clean.head()"
   ]
  },
  {
   "cell_type": "code",
   "execution_count": 73,
   "metadata": {},
   "outputs": [
    {
     "name": "stderr",
     "output_type": "stream",
     "text": [
      "/var/folders/t4/fc819y_d12x4mw_4wctsmrnc0000gn/T/ipykernel_18912/1523790852.py:1: SettingWithCopyWarning: \n",
      "A value is trying to be set on a copy of a slice from a DataFrame.\n",
      "Try using .loc[row_indexer,col_indexer] = value instead\n",
      "\n",
      "See the caveats in the documentation: https://pandas.pydata.org/pandas-docs/stable/user_guide/indexing.html#returning-a-view-versus-a-copy\n",
      "  df_clean['month'] = df_clean['date'].apply(lambda x:x.month_name())\n",
      "/var/folders/t4/fc819y_d12x4mw_4wctsmrnc0000gn/T/ipykernel_18912/1523790852.py:2: SettingWithCopyWarning: \n",
      "A value is trying to be set on a copy of a slice from a DataFrame.\n",
      "Try using .loc[row_indexer,col_indexer] = value instead\n",
      "\n",
      "See the caveats in the documentation: https://pandas.pydata.org/pandas-docs/stable/user_guide/indexing.html#returning-a-view-versus-a-copy\n",
      "  df_clean['day_name'] = df_clean['date'].apply(lambda x:x.day_name())\n",
      "/var/folders/t4/fc819y_d12x4mw_4wctsmrnc0000gn/T/ipykernel_18912/1523790852.py:3: SettingWithCopyWarning: \n",
      "A value is trying to be set on a copy of a slice from a DataFrame.\n",
      "Try using .loc[row_indexer,col_indexer] = value instead\n",
      "\n",
      "See the caveats in the documentation: https://pandas.pydata.org/pandas-docs/stable/user_guide/indexing.html#returning-a-view-versus-a-copy\n",
      "  df_clean['hour'] = df_clean['date'].apply(lambda x:x.hour)\n"
     ]
    }
   ],
   "source": [
    "df_clean['month'] = df_clean['date'].apply(lambda x:x.month_name())\n",
    "df_clean['day_name'] = df_clean['date'].apply(lambda x:x.day_name())\n",
    "df_clean['hour'] = df_clean['date'].apply(lambda x:x.hour)"
   ]
  },
  {
   "cell_type": "code",
   "execution_count": 74,
   "metadata": {},
   "outputs": [
    {
     "data": {
      "text/html": [
       "<div>\n",
       "<style scoped>\n",
       "    .dataframe tbody tr th:only-of-type {\n",
       "        vertical-align: middle;\n",
       "    }\n",
       "\n",
       "    .dataframe tbody tr th {\n",
       "        vertical-align: top;\n",
       "    }\n",
       "\n",
       "    .dataframe thead th {\n",
       "        text-align: right;\n",
       "    }\n",
       "</style>\n",
       "<table border=\"1\" class=\"dataframe\">\n",
       "  <thead>\n",
       "    <tr style=\"text-align: right;\">\n",
       "      <th></th>\n",
       "      <th>Crime Name1</th>\n",
       "      <th>Crime Name2</th>\n",
       "      <th>Crime Name3</th>\n",
       "      <th>Dispatch Date / Time</th>\n",
       "      <th>date</th>\n",
       "      <th>month</th>\n",
       "      <th>day_name</th>\n",
       "      <th>hour</th>\n",
       "    </tr>\n",
       "  </thead>\n",
       "  <tbody>\n",
       "    <tr>\n",
       "      <th>0</th>\n",
       "      <td>crime against society</td>\n",
       "      <td>Drug Equipment Violations</td>\n",
       "      <td>DRUGS - NARCOTIC EQUIP - POSSESS</td>\n",
       "      <td>08/23/2018 09:52:08 PM</td>\n",
       "      <td>2018-08-23 21:52:08</td>\n",
       "      <td>August</td>\n",
       "      <td>Thursday</td>\n",
       "      <td>21.0</td>\n",
       "    </tr>\n",
       "    <tr>\n",
       "      <th>1</th>\n",
       "      <td>crime against society</td>\n",
       "      <td>Drug/Narcotic Violations</td>\n",
       "      <td>DRUGS - OPIUM OR DERIVATIVE - POSSESS</td>\n",
       "      <td>03/30/2018 01:00:55 AM</td>\n",
       "      <td>2018-03-30 01:00:55</td>\n",
       "      <td>March</td>\n",
       "      <td>Friday</td>\n",
       "      <td>1.0</td>\n",
       "    </tr>\n",
       "    <tr>\n",
       "      <th>2</th>\n",
       "      <td>crime against society</td>\n",
       "      <td>Drug/Narcotic Violations</td>\n",
       "      <td>DRUGS - MARIJUANA - POSSESS</td>\n",
       "      <td>03/30/2018 01:00:55 AM</td>\n",
       "      <td>2018-03-30 01:00:55</td>\n",
       "      <td>March</td>\n",
       "      <td>Friday</td>\n",
       "      <td>1.0</td>\n",
       "    </tr>\n",
       "    <tr>\n",
       "      <th>3</th>\n",
       "      <td>crime against society</td>\n",
       "      <td>Drug/Narcotic Violations</td>\n",
       "      <td>DRUGS - OPIUM OR DERIVATIVE - SELL</td>\n",
       "      <td>06/14/2018 10:26:45 PM</td>\n",
       "      <td>2018-06-14 22:26:45</td>\n",
       "      <td>June</td>\n",
       "      <td>Thursday</td>\n",
       "      <td>22.0</td>\n",
       "    </tr>\n",
       "    <tr>\n",
       "      <th>4</th>\n",
       "      <td>crime against property</td>\n",
       "      <td>Burglary/Breaking and Entering</td>\n",
       "      <td>BURGLARY - NO FORCED ENTRY-RESIDENTIAL</td>\n",
       "      <td>09/03/2018 12:06:54 PM</td>\n",
       "      <td>2018-09-03 12:06:54</td>\n",
       "      <td>September</td>\n",
       "      <td>Monday</td>\n",
       "      <td>12.0</td>\n",
       "    </tr>\n",
       "  </tbody>\n",
       "</table>\n",
       "</div>"
      ],
      "text/plain": [
       "              Crime Name1                     Crime Name2  \\\n",
       "0   crime against society       Drug Equipment Violations   \n",
       "1   crime against society        Drug/Narcotic Violations   \n",
       "2   crime against society        Drug/Narcotic Violations   \n",
       "3   crime against society        Drug/Narcotic Violations   \n",
       "4  crime against property  Burglary/Breaking and Entering   \n",
       "\n",
       "                              Crime Name3    Dispatch Date / Time  \\\n",
       "0        DRUGS - NARCOTIC EQUIP - POSSESS  08/23/2018 09:52:08 PM   \n",
       "1   DRUGS - OPIUM OR DERIVATIVE - POSSESS  03/30/2018 01:00:55 AM   \n",
       "2             DRUGS - MARIJUANA - POSSESS  03/30/2018 01:00:55 AM   \n",
       "3      DRUGS - OPIUM OR DERIVATIVE - SELL  06/14/2018 10:26:45 PM   \n",
       "4  BURGLARY - NO FORCED ENTRY-RESIDENTIAL  09/03/2018 12:06:54 PM   \n",
       "\n",
       "                 date      month  day_name  hour  \n",
       "0 2018-08-23 21:52:08     August  Thursday  21.0  \n",
       "1 2018-03-30 01:00:55      March    Friday   1.0  \n",
       "2 2018-03-30 01:00:55      March    Friday   1.0  \n",
       "3 2018-06-14 22:26:45       June  Thursday  22.0  \n",
       "4 2018-09-03 12:06:54  September    Monday  12.0  "
      ]
     },
     "execution_count": 74,
     "metadata": {},
     "output_type": "execute_result"
    }
   ],
   "source": [
    "df_clean.head()"
   ]
  },
  {
   "cell_type": "code",
   "execution_count": 77,
   "metadata": {},
   "outputs": [
    {
     "name": "stderr",
     "output_type": "stream",
     "text": [
      "Matplotlib is building the font cache; this may take a moment.\n"
     ]
    }
   ],
   "source": [
    "import matplotlib.pyplot as plt\n",
    "import seaborn as sns"
   ]
  },
  {
   "cell_type": "code",
   "execution_count": 82,
   "metadata": {},
   "outputs": [
    {
     "data": {
      "text/plain": [
       "<Axes: ylabel='Crime Name1'>"
      ]
     },
     "execution_count": 82,
     "metadata": {},
     "output_type": "execute_result"
    },
    {
     "data": {
      "image/png": "[encoded data removed]",
      "text/plain": [
       "<Figure size 640x480 with 1 Axes>"
      ]
     },
     "metadata": {},
     "output_type": "display_data"
    }
   ],
   "source": [
    "df_clean.groupby('Crime Name1').size().plot(kind='barh')"
   ]
  },
  {
   "cell_type": "code",
   "execution_count": 83,
   "metadata": {},
   "outputs": [],
   "source": [
    "df_property_crimes = df_clean[df_clean['Crime Name1'] == 'crime against property']"
   ]
  },
  {
   "cell_type": "code",
   "execution_count": 84,
   "metadata": {},
   "outputs": [
    {
     "data": {
      "text/plain": [
       "(139882, 8)"
      ]
     },
     "execution_count": 84,
     "metadata": {},
     "output_type": "execute_result"
    }
   ],
   "source": [
    "df_property_crimes.shape"
   ]
  },
  {
   "cell_type": "code",
   "execution_count": 85,
   "metadata": {},
   "outputs": [
    {
     "data": {
      "text/plain": [
       "Text(0.5, 0, 'Crime Names')"
      ]
     },
     "execution_count": 85,
     "metadata": {},
     "output_type": "execute_result"
    },
    {
     "data": {
      "image/png": "[encoded data removed]",
      "text/plain": [
       "<Figure size 640x480 with 1 Axes>"
      ]
     },
     "metadata": {},
     "output_type": "display_data"
    }
   ],
   "source": [
    "df_property_crimes.groupby('Crime Name2').size().plot(kind='barh')\n",
    "plt.xlabel('Crime Names')"
   ]
  },
  {
   "cell_type": "code",
   "execution_count": 86,
   "metadata": {},
   "outputs": [],
   "source": [
    "plt.rcParams['figure.figsize'] = (12,6)"
   ]
  },
  {
   "cell_type": "markdown",
   "metadata": {},
   "source": [
    "## Using Seaborn"
   ]
  },
  {
   "cell_type": "code",
   "execution_count": 87,
   "metadata": {},
   "outputs": [
    {
     "data": {
      "text/plain": [
       "(306094, 8)"
      ]
     },
     "execution_count": 87,
     "metadata": {},
     "output_type": "execute_result"
    }
   ],
   "source": [
    "df_clean.shape"
   ]
  },
  {
   "cell_type": "code",
   "execution_count": 88,
   "metadata": {},
   "outputs": [],
   "source": [
    "df_filtered = df_clean[df_clean['Crime Name1'] != 'not a crime']"
   ]
  },
  {
   "cell_type": "code",
   "execution_count": 89,
   "metadata": {},
   "outputs": [
    {
     "data": {
      "text/plain": [
       "(302519, 8)"
      ]
     },
     "execution_count": 89,
     "metadata": {},
     "output_type": "execute_result"
    }
   ],
   "source": [
    "df_filtered.shape"
   ]
  },
  {
   "cell_type": "code",
   "execution_count": 90,
   "metadata": {},
   "outputs": [
    {
     "data": {
      "text/plain": [
       "<Axes: xlabel='hour', ylabel='count'>"
      ]
     },
     "execution_count": 90,
     "metadata": {},
     "output_type": "execute_result"
    },
    {
     "data": {
      "image/png": "[encoded data removed]",
      "text/plain": [
       "<Figure size 1200x600 with 1 Axes>"
      ]
     },
     "metadata": {},
     "output_type": "display_data"
    }
   ],
   "source": [
    "sns.countplot(x = 'hour', data=df_filtered)"
   ]
  },
  {
   "cell_type": "code",
   "execution_count": 91,
   "metadata": {},
   "outputs": [
    {
     "data": {
      "text/plain": [
       "array(['crime against society', 'crime against property',\n",
       "       'crime against person', 'other', nan], dtype=object)"
      ]
     },
     "execution_count": 91,
     "metadata": {},
     "output_type": "execute_result"
    }
   ],
   "source": [
    "df_filtered['Crime Name1'].unique()"
   ]
  },
  {
   "cell_type": "code",
   "execution_count": 93,
   "metadata": {},
   "outputs": [
    {
     "data": {
      "text/plain": [
       "<Axes: xlabel='hour', ylabel='count'>"
      ]
     },
     "execution_count": 93,
     "metadata": {},
     "output_type": "execute_result"
    },
    {
     "data": {
      "image/png": "[encoded data removed]",
      "text/plain": [
       "<Figure size 1200x600 with 1 Axes>"
      ]
     },
     "metadata": {},
     "output_type": "display_data"
    }
   ],
   "source": [
    "sns.countplot(x='hour', data=df_filtered[df_filtered['Crime Name1'] == 'crime against society'])"
   ]
  },
  {
   "cell_type": "code",
   "execution_count": 99,
   "metadata": {},
   "outputs": [
    {
     "data": {
      "image/png": "[encoded data removed]",
      "text/plain": [
       "<Figure size 1000x600 with 1 Axes>"
      ]
     },
     "metadata": {},
     "output_type": "display_data"
    }
   ],
   "source": [
    "df['Dispatch Date / Time'] = pd.to_datetime(df['Dispatch Date / Time'])\n",
    "\n",
    "df['Month'] = df['Dispatch Date / Time'].dt.month\n",
    "\n",
    "monthly_crimes = df.groupby('Month').size()\n",
    "\n",
    "month_names = [\n",
    "    'January', 'February', 'March', 'April', 'May', 'June', \n",
    "    'July', 'August', 'September', 'October', 'November', 'December'\n",
    "]\n",
    "\n",
    "monthly_crimes.index = [month_names[int(i) - 1] for i in monthly_crimes.index]\n",
    "\n",
    "plt.figure(figsize=(10, 6))\n",
    "monthly_crimes.plot(kind='line', marker='o')\n",
    "plt.title('Monthly Crime Trends')\n",
    "plt.xlabel('Month')\n",
    "plt.ylabel('Number of Incidents')\n",
    "\n",
    "plt.xticks(range(12), month_names, rotation=45)\n",
    "plt.show()"
   ]
  },
  {
   "cell_type": "code",
   "execution_count": 102,
   "metadata": {},
   "outputs": [
    {
     "data": {
      "image/png": "[encoded data removed]",
      "text/plain": [
       "<Figure size 1000x600 with 1 Axes>"
      ]
     },
     "metadata": {},
     "output_type": "display_data"
    }
   ],
   "source": [
    "crime_by_state = df.groupby('City').size()\n",
    "\n",
    "top_states = crime_by_state.sort_values(ascending=False).head(5)\n",
    "\n",
    "plt.figure(figsize=(10, 6))\n",
    "top_states.plot(kind='bar', color='skyblue')\n",
    "\n",
    "plt.title('Top 5 Cities with the Highest Crime Rates')\n",
    "plt.xlabel('City')\n",
    "plt.ylabel('Number of Crimes')\n",
    "plt.xticks(rotation=45)\n",
    "plt.tight_layout()\n",
    "plt.show()"
   ]
  },
  {
   "cell_type": "code",
   "execution_count": 110,
   "metadata": {},
   "outputs": [
    {
     "data": {
      "image/png": "[encoded data removed]",
      "text/plain": [
       "<Figure size 1200x800 with 1 Axes>"
      ]
     },
     "metadata": {},
     "output_type": "display_data"
    }
   ],
   "source": [
    "plt.figure(figsize=(12, 8))\n",
    "\n",
    "plt.scatter(df['Longitude'], df['Latitude'], alpha=0.5, c='red', s=1)\n",
    "\n",
    "plt.title('Crime Locations (Hotspots)')\n",
    "plt.xlabel('Longitude')\n",
    "plt.ylabel('Latitude')\n",
    "\n",
    "plt.xlim(-77.75, -76.75) \n",
    "plt.ylim(38.75, 39.5)\n",
    "\n",
    "plt.show()"
   ]
  }
 ],
 "metadata": {
  "kernelspec": {
   "display_name": "Python 3",
   "language": "python",
   "name": "python3"
  },
  "language_info": {
   "codemirror_mode": {
    "name": "ipython",
    "version": 3
   },
   "file_extension": ".py",
   "mimetype": "text/x-python",
   "name": "python",
   "nbconvert_exporter": "python",
   "pygments_lexer": "ipython3",
   "version": "3.13.1"
  }
 },
 "nbformat": 4,
 "nbformat_minor": 2
}
