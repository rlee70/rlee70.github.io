{
 "cells": [
  {
   "cell_type": "markdown",
   "metadata": {},
   "source": [
    "# Looking into NBA Player Stats (2023)\n",
    "\n",
    "## Introduce the Problem/Goal\n",
    "\n",
    "### I love basketball and watching any form of the game is always a pleasure to me. There's something special about cheering for your team while the opponent tries everything they can to stop them, and there are so many different niches and ways to make an impact on the court, so there's something for everyone who wants to start playing it. For example, some players' entire careers are built upon shooting the 3-pointer at an efficient rate, and some players have been known to be awful shooters, while still playing a crucial role in other areas like playmaking or defense. This is one of the reasons that I'm infatuated with basketball, and now that I have the opportunity to take a closer look into some data around it, I have a couple of things I want to find out. Because this project will be focusing on classification, I want to classify players based on a few different categories, like position, team, or even some nuanced metrics like +/- (how much more or less your team scores if you're playing). My goal in this project is to gain a little bit of insight about how NBA teams work, and learn about how they scheme their offense and defense around their star players. \n",
    "\n",
    "## Introduce the Data\n",
    "\n",
    "### I found this dataset on Kaggle, and it includes basic statistics and relevant information about the player, like efficiency from all shots and 3's,position, as well as their total minutes logged and how many wins/losses their team had (in games that they played). This information will allow me to make conclusions about how valuable a player is, as well as find groups of players that fulfill certain thresholds of statistics. \n",
    "\n",
    "## Pre-processing\n",
    "\n",
    "### This dataset is very nice for pre-processing because its data will allow me to filter in and out of certain categories very easily. As far as I know of, there aren't any null values in any features, and because of this, if I wanted to see which point guards were the most potent passers, I can easily filter my data to only show point guards, and iterate through the assist column to see who tallied the most. I could also do this with regard to total minutes, in order to find out which players had the most assists per minute played. This could provide even more insight to potential future stars that just aren't getting enough minutes right now.\n",
    "\n",
    "## Data Understanding/Visualization\n",
    "\n",
    "### I plan to use decision trees in my visualizations for this dataset. Originally, I was planning on using Naive Bayes, but when I was looking through the columns, I noticed that some features would be correlated with each other, which is problematic since Naive Bayes relies on independence between features. So, I decided to switch to decision trees, because their processes are similar, while decision trees are able to handle dependent data more reliably than Naive Bayes. "
   ]
  },
  {
   "cell_type": "code",
   "execution_count": 1,
   "metadata": {},
   "outputs": [
    {
     "name": "stdout",
     "output_type": "stream",
     "text": [
      "Requirement already satisfied: nbconvert in /Library/Frameworks/Python.framework/Versions/3.13/lib/python3.13/site-packages (7.16.6)\n",
      "Requirement already satisfied: beautifulsoup4 in /Library/Frameworks/Python.framework/Versions/3.13/lib/python3.13/site-packages (from nbconvert) (4.12.3)\n",
      "Requirement already satisfied: bleach!=5.0.0 in /Library/Frameworks/Python.framework/Versions/3.13/lib/python3.13/site-packages (from bleach[css]!=5.0.0->nbconvert) (6.2.0)\n",
      "Requirement already satisfied: defusedxml in /Library/Frameworks/Python.framework/Versions/3.13/lib/python3.13/site-packages (from nbconvert) (0.7.1)\n",
      "Requirement already satisfied: jinja2>=3.0 in /Library/Frameworks/Python.framework/Versions/3.13/lib/python3.13/site-packages (from nbconvert) (3.1.5)\n",
      "Requirement already satisfied: jupyter-core>=4.7 in /Users/kailee/Library/Python/3.13/lib/python/site-packages (from nbconvert) (5.7.2)\n",
      "Requirement already satisfied: jupyterlab-pygments in /Library/Frameworks/Python.framework/Versions/3.13/lib/python3.13/site-packages (from nbconvert) (0.3.0)\n",
      "Requirement already satisfied: markupsafe>=2.0 in /Library/Frameworks/Python.framework/Versions/3.13/lib/python3.13/site-packages (from nbconvert) (3.0.2)\n",
      "Requirement already satisfied: mistune<4,>=2.0.3 in /Library/Frameworks/Python.framework/Versions/3.13/lib/python3.13/site-packages (from nbconvert) (3.1.1)\n",
      "Requirement already satisfied: nbclient>=0.5.0 in /Library/Frameworks/Python.framework/Versions/3.13/lib/python3.13/site-packages (from nbconvert) (0.10.2)\n",
      "Requirement already satisfied: nbformat>=5.7 in /Library/Frameworks/Python.framework/Versions/3.13/lib/python3.13/site-packages (from nbconvert) (5.10.4)\n",
      "Requirement already satisfied: packaging in /Users/kailee/Library/Python/3.13/lib/python/site-packages (from nbconvert) (24.2)\n",
      "Requirement already satisfied: pandocfilters>=1.4.1 in /Library/Frameworks/Python.framework/Versions/3.13/lib/python3.13/site-packages (from nbconvert) (1.5.1)\n",
      "Requirement already satisfied: pygments>=2.4.1 in /Users/kailee/Library/Python/3.13/lib/python/site-packages (from nbconvert) (2.19.1)\n",
      "Requirement already satisfied: traitlets>=5.1 in /Users/kailee/Library/Python/3.13/lib/python/site-packages (from nbconvert) (5.14.3)\n",
      "Requirement already satisfied: webencodings in /Library/Frameworks/Python.framework/Versions/3.13/lib/python3.13/site-packages (from bleach!=5.0.0->bleach[css]!=5.0.0->nbconvert) (0.5.1)\n",
      "Requirement already satisfied: tinycss2<1.5,>=1.1.0 in /Library/Frameworks/Python.framework/Versions/3.13/lib/python3.13/site-packages (from bleach[css]!=5.0.0->nbconvert) (1.4.0)\n",
      "Requirement already satisfied: platformdirs>=2.5 in /Users/kailee/Library/Python/3.13/lib/python/site-packages (from jupyter-core>=4.7->nbconvert) (4.3.6)\n",
      "Requirement already satisfied: jupyter-client>=6.1.12 in /Users/kailee/Library/Python/3.13/lib/python/site-packages (from nbclient>=0.5.0->nbconvert) (8.6.3)\n",
      "Requirement already satisfied: fastjsonschema>=2.15 in /Library/Frameworks/Python.framework/Versions/3.13/lib/python3.13/site-packages (from nbformat>=5.7->nbconvert) (2.21.1)\n",
      "Requirement already satisfied: jsonschema>=2.6 in /Library/Frameworks/Python.framework/Versions/3.13/lib/python3.13/site-packages (from nbformat>=5.7->nbconvert) (4.23.0)\n",
      "Requirement already satisfied: soupsieve>1.2 in /Library/Frameworks/Python.framework/Versions/3.13/lib/python3.13/site-packages (from beautifulsoup4->nbconvert) (2.6)\n",
      "Requirement already satisfied: attrs>=22.2.0 in /Library/Frameworks/Python.framework/Versions/3.13/lib/python3.13/site-packages (from jsonschema>=2.6->nbformat>=5.7->nbconvert) (25.1.0)\n",
      "Requirement already satisfied: jsonschema-specifications>=2023.03.6 in /Library/Frameworks/Python.framework/Versions/3.13/lib/python3.13/site-packages (from jsonschema>=2.6->nbformat>=5.7->nbconvert) (2024.10.1)\n",
      "Requirement already satisfied: referencing>=0.28.4 in /Library/Frameworks/Python.framework/Versions/3.13/lib/python3.13/site-packages (from jsonschema>=2.6->nbformat>=5.7->nbconvert) (0.36.2)\n",
      "Requirement already satisfied: rpds-py>=0.7.1 in /Library/Frameworks/Python.framework/Versions/3.13/lib/python3.13/site-packages (from jsonschema>=2.6->nbformat>=5.7->nbconvert) (0.22.3)\n",
      "Requirement already satisfied: python-dateutil>=2.8.2 in /Users/kailee/Library/Python/3.13/lib/python/site-packages (from jupyter-client>=6.1.12->nbclient>=0.5.0->nbconvert) (2.9.0.post0)\n",
      "Requirement already satisfied: pyzmq>=23.0 in /Users/kailee/Library/Python/3.13/lib/python/site-packages (from jupyter-client>=6.1.12->nbclient>=0.5.0->nbconvert) (26.2.0)\n",
      "Requirement already satisfied: tornado>=6.2 in /Users/kailee/Library/Python/3.13/lib/python/site-packages (from jupyter-client>=6.1.12->nbclient>=0.5.0->nbconvert) (6.4.2)\n",
      "Requirement already satisfied: six>=1.5 in /Users/kailee/Library/Python/3.13/lib/python/site-packages (from python-dateutil>=2.8.2->jupyter-client>=6.1.12->nbclient>=0.5.0->nbconvert) (1.17.0)\n",
      "\n",
      "\u001b[1m[\u001b[0m\u001b[34;49mnotice\u001b[0m\u001b[1;39;49m]\u001b[0m\u001b[39;49m A new release of pip is available: \u001b[0m\u001b[31;49m24.3.1\u001b[0m\u001b[39;49m -> \u001b[0m\u001b[32;49m25.0.1\u001b[0m\n",
      "\u001b[1m[\u001b[0m\u001b[34;49mnotice\u001b[0m\u001b[1;39;49m]\u001b[0m\u001b[39;49m To update, run: \u001b[0m\u001b[32;49mpip3 install --upgrade pip\u001b[0m\n",
      "Note: you may need to restart the kernel to use updated packages.\n"
     ]
    }
   ],
   "source": [
    "%pip install nbconvert\n"
   ]
  }
 ],
 "metadata": {
  "kernelspec": {
   "display_name": "Python 3",
   "language": "python",
   "name": "python3"
  },
  "language_info": {
   "codemirror_mode": {
    "name": "ipython",
    "version": 3
   },
   "file_extension": ".py",
   "mimetype": "text/x-python",
   "name": "python",
   "nbconvert_exporter": "python",
   "pygments_lexer": "ipython3",
   "version": "3.13.1"
  }
 },
 "nbformat": 4,
 "nbformat_minor": 2
}
