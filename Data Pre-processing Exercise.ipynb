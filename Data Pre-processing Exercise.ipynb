{
 "cells": [
  {
   "cell_type": "markdown",
   "id": "8f3b40e6-d003-414f-9ab4-e1d57d527dbb",
   "metadata": {},
   "source": [
    "# **Data Preprocessing Assignment**\n",
    "\n",
    "## **1. Loading the Dataset**\n",
    "\n",
    "How can you load a dataset from a CSV file into a DataFrame using Python? Write code to achieve this, ensuring the file path is correct."
   ]
  },
  {
   "cell_type": "code",
   "execution_count": 19,
   "id": "417e2779-9937-4fe3-9e0c-ba803ef943e2",
   "metadata": {},
   "outputs": [],
   "source": [
    "import pandas as pd\n",
    "import numpy as np\n",
    "import random"
   ]
  },
  {
   "cell_type": "code",
   "execution_count": 20,
   "id": "623d8afb-110d-4109-8458-77cce995a24a",
   "metadata": {},
   "outputs": [],
   "source": [
    "# Step 1\n"
   ]
  },
  {
   "cell_type": "markdown",
   "id": "84d5e3d4-9d70-4ffb-b7b0-51fcb25127f2",
   "metadata": {},
   "source": [
    "## **2. Inspecting the Dataset**\n",
    "\n",
    "Once you load your dataset, what steps would you take to inspect its structure and content?\n",
    "1. Write code to view available columns\n",
    "2. Check the first few rows of the dataset"
   ]
  },
  {
   "cell_type": "code",
   "execution_count": 1,
   "id": "cb76c3f0-007c-4f8f-bcbc-fc9301a3718b",
   "metadata": {},
   "outputs": [],
   "source": [
    "# Step 2.1\n",
    "\n",
    "# Step 2.2\n"
   ]
  },
  {
   "cell_type": "markdown",
   "id": "d32f8004-25d9-4c41-a3fd-ad6321118575",
   "metadata": {},
   "source": [
    "## **3. Stripping Spaces from Column Names**\n",
    "\n",
    "If the column names in your dataset have leading or trailing spaces, they can cause errors or unexpected behavior. Write code to remove these spaces from all column names in the dataset to ensure consistency and avoid issues."
   ]
  },
  {
   "cell_type": "code",
   "execution_count": 22,
   "id": "37c3241a-33ba-494a-b30a-10e8df82d871",
   "metadata": {},
   "outputs": [
    {
     "data": {
      "text/plain": [
       "Index(['Segment', 'Country', 'Product', 'Discount Band', 'Units Sold',\n",
       "       'Manufacturing Price', 'Sale Price', 'Gross Sales', 'Discounts',\n",
       "       'Sales', 'COGS', 'Profit', 'Date', 'Month Number', 'Month Name',\n",
       "       'Year'],\n",
       "      dtype='object')"
      ]
     },
     "execution_count": 22,
     "metadata": {},
     "output_type": "execute_result"
    }
   ],
   "source": [
    "# Step 3\n",
    "\n",
    "\n",
    "# Observe the column names in your dataset before and after applying this code.\n",
    "data.columns"
   ]
  },
  {
   "cell_type": "markdown",
   "id": "eb88edbd-a9b3-40ef-aa1c-d875a3d87429",
   "metadata": {},
   "source": [
    "## **4. Dropping Extra Columns**\n",
    "\n",
    "You might want to consider that some columns in your dataset could be irrelevant to the task you're performing. For example, keeping the `Product` column may not make sense if your focus is solely on sales and numerical data.\n",
    "\n",
    "It's a good practice to identify and drop such unnecessary columns from your DataFrame. This helps optimize memory usage for the task at hand and avoids wasting resources on irrelevant data.\n",
    "\n",
    "For demo, let's drop columns `Segment` and `Country` from our analysis."
   ]
  },
  {
   "cell_type": "code",
   "execution_count": 23,
   "id": "09db93cf-20f5-4c35-940d-ce7175e1a7cc",
   "metadata": {},
   "outputs": [],
   "source": [
    "# Step 4\n"
   ]
  },
  {
   "cell_type": "markdown",
   "id": "8f279e0b-9535-45e6-97ba-a3b1761bb6a8",
   "metadata": {},
   "source": [
    "## **5. Handling Missing Values**\n",
    "\n",
    "Missing values in a dataset can occur due to various reasons, such as incomplete data collection, system errors, or human oversight. These missing values can significantly impact the performance of data analysis and machine learning models, leading to inaccurate or biased results. \n",
    "\n",
    "Identifying and addressing missing values is a crucial step in data preprocessing. By understanding where missing values exist and how prevalent they are, you can decide on appropriate strategies to handle them, such as imputation or removal.\n",
    "\n",
    "1. Write code to determine the total number of missing values in each column.\n",
    "2. Write code to remove rows from the dataset where any column contains null values.\n",
    "3. Can you research ways to handle null values and write about your findings?"
   ]
  },
  {
   "cell_type": "code",
   "execution_count": 24,
   "id": "f20eb922-6d48-401f-9d1f-78c8c4ce15fe",
   "metadata": {},
   "outputs": [
    {
     "name": "stdout",
     "output_type": "stream",
     "text": [
      "Product                 0\n",
      "Discount Band           0\n",
      "Units Sold              0\n",
      "Manufacturing Price    61\n",
      "Sale Price             50\n",
      "Gross Sales            25\n",
      "Discounts              40\n",
      "Sales                  26\n",
      "COGS                   62\n",
      "Profit                 17\n",
      "Date                    0\n",
      "Month Number            0\n",
      "Month Name              0\n",
      "Year                    0\n",
      "dtype: int64\n"
     ]
    }
   ],
   "source": [
    "# Step 5.1\n",
    "\n",
    "\n",
    "# Step 5.2\n"
   ]
  },
  {
   "cell_type": "code",
   "execution_count": 25,
   "id": "c2a1a46b-f4e8-46f7-835f-0ca9b24cf6ab",
   "metadata": {},
   "outputs": [],
   "source": [
    "# Step 5.3\n",
    "\n",
    "\n"
   ]
  },
  {
   "cell_type": "markdown",
   "id": "ee2a427e-6be6-4253-845e-7f3d98cc3808",
   "metadata": {},
   "source": [
    "## **6. Converting String Values to Numeric**\n",
    "\n",
    "In the dataset, some columns that should contain numeric values are currently stored as strings. To perform numerical operations or modeling, these columns must be converted to a proper numeric format.\n",
    "\n",
    "1. Inspect the dataset to identify columns that should be numeric but are currently stored as strings, and add them to the provided list.\n",
    "2. Remove the dollar sign (`$`) and commas (`,`) from these values to prepare them for conversion into numeric format."
   ]
  },
  {
   "cell_type": "code",
   "execution_count": 26,
   "id": "47cd5367-ffd5-43ff-95a4-7052cbdcb248",
   "metadata": {},
   "outputs": [],
   "source": [
    "# Step 6.1\n",
    "\n",
    "\n",
    "# Step 6.2\n",
    "def clean_values(value):\n",
    "    # Replace the '$' and ',' characters with an empty string ('') and remove leading and trailing spaces from the value.\n",
    "    # write function here and return the transformed value\n",
    "    pass\n",
    "\n",
    "# Use apply method to transform the columns using 'clean_values' function\n",
    "for column in numeric_columns:\n",
    "    data[column] = data[column].apply(clean_values)\n",
    "    data[column] = pd.to_numeric(data[column], errors = \"coerce\")"
   ]
  },
  {
   "cell_type": "markdown",
   "id": "5c5b58ab-e82b-4cbc-a783-e5b4ccdf03a4",
   "metadata": {},
   "source": [
    "## **7. Working with dates**\n",
    "\n",
    "Datasets often contain fields for dates and timestamps, which can be represented in various formats. When data is collected and combined from multiple sources, inconsistencies in date and timestamp formats can occur. These discrepancies can lead to errors during analysis or processing, making it essential to standardize and validate these fields.\n",
    "\n",
    "Follow these steps to clean the date field from our data.\n",
    "\n",
    "1. Find unique length of column `Date`\n",
    "2. Apply the function `standardize_date` to format date value"
   ]
  },
  {
   "cell_type": "code",
   "execution_count": 27,
   "id": "282714f0-695e-4266-a4db-c47348ec0585",
   "metadata": {},
   "outputs": [
    {
     "data": {
      "text/plain": [
       "array([10,  8, 11])"
      ]
     },
     "execution_count": 27,
     "metadata": {},
     "output_type": "execute_result"
    }
   ],
   "source": [
    "# Step 7.1\n"
   ]
  },
  {
   "cell_type": "code",
   "execution_count": 28,
   "id": "2ec85fc5-c97b-4483-a286-50c1ea50b782",
   "metadata": {},
   "outputs": [],
   "source": [
    "from datetime import datetime\n",
    "\n",
    "def standardize_date(value):    \n",
    "    # Check length of the date string and apply appropriate parsing\n",
    "    if len(value) == 8:  # Example: 01/08/14\n",
    "        return datetime.strptime(value, '%m/%d/%y').strftime('%m/%d/%Y')\n",
    "    elif len(value) == 10 and '/' in value:  # Example: 01/10/2013\n",
    "        return datetime.strptime(value, '%m/%d/%Y').strftime('%m/%d/%Y')\n",
    "    elif len(value) >= 11:  # Example: Jan 11 2014\n",
    "        return datetime.strptime(value, '%b %d %Y').strftime('%m/%d/%Y')\n",
    "    else:\n",
    "        return None  # Return None for unhandled cases\n",
    "\n",
    "# Step 7.2\n"
   ]
  },
  {
   "cell_type": "markdown",
   "id": "b00c4b30-9355-4073-82bb-13241c6fa61c",
   "metadata": {},
   "source": [
    "## **8. Data Visualization**\n",
    "\n",
    "At this stage, it's important to pause and think carefully about our next step. What is your ultimate goal? What do you intend to achieve with the data? If your task is to create visualizations, then we are nearly finished with data pre-processing. Visualizations are an excellent way to extract meaningful insights from data. In some cases, they provide better insights than machine learning models.\n",
    "\n",
    "Python offers a powerful libraries called `matplotlib` and `seaborn` for creating visualizations, and it integrates seamlessly with pandas DataFrames. Here are some demo visualitzations on our dataset. Observe and comment your findings."
   ]
  },
  {
   "cell_type": "code",
   "execution_count": 34,
   "id": "6841faaa-1c47-4db8-979b-5b131a24f09d",
   "metadata": {},
   "outputs": [
    {
     "data": {
      "image/png": "[encoded data removed]",
      "text/plain": [
       "<Figure size 1000x600 with 4 Axes>"
      ]
     },
     "metadata": {},
     "output_type": "display_data"
    }
   ],
   "source": [
    "import pandas as pd\n",
    "import matplotlib.pyplot as plt\n",
    "import seaborn as sns\n",
    "\n",
    "fig, axes = plt.subplots(2, 2, figsize=(10, 6))\n",
    "\n",
    "data.groupby('Product')['Units Sold'].sum().sort_values().plot(\n",
    "    kind='bar', color='skyblue', ax=axes[0, 0]\n",
    ")\n",
    "axes[0, 0].set_title('Units Sold by Product')\n",
    "axes[0, 0].set_xlabel('Product')\n",
    "axes[0, 0].set_ylabel('Units Sold')\n",
    "axes[0, 0].tick_params(axis='x', rotation=45)\n",
    "axes[0, 0].grid(axis='y', linestyle='--')\n",
    "\n",
    "sns.boxplot(y=data['Profit'], color='lightgreen', ax=axes[0, 1])\n",
    "axes[0, 1].set_title('Distribution of Profit')\n",
    "axes[0, 1].set_ylabel('Profit')\n",
    "axes[0, 1].grid(axis='y', linestyle='--')\n",
    "\n",
    "axes[1, 0].hist(data['Discounts'], bins=20, color='coral', edgecolor='black')\n",
    "axes[1, 0].set_title('Distribution of Discounts')\n",
    "axes[1, 0].set_xlabel('Discounts')\n",
    "axes[1, 0].set_ylabel('Frequency')\n",
    "axes[1, 0].grid(axis='y', linestyle='--')\n",
    "\n",
    "axes[1, 1].scatter(data['Sale Price'], data['Profit'], alpha=0.7, color='purple')\n",
    "axes[1, 1].set_title('Sale Price vs. Profit')\n",
    "axes[1, 1].set_xlabel('Sale Price')\n",
    "axes[1, 1].set_ylabel('Profit')\n",
    "axes[1, 1].grid(True)\n",
    "\n",
    "plt.tight_layout()\n",
    "plt.show()"
   ]
  },
  {
   "cell_type": "code",
   "execution_count": null,
   "id": "f00e9dca-81ea-4ef1-90e0-7eef12649db0",
   "metadata": {},
   "outputs": [],
   "source": [
    "# Step 8\n",
    "\n",
    "\n"
   ]
  },
  {
   "attachments": {},
   "cell_type": "markdown",
   "id": "d1dcb783-5173-4723-96ef-5dae13b05397",
   "metadata": {},
   "source": [
    "## **9. Standardization of Numeric Columns**\n",
    "\n",
    "Before training a machine learning model, features are standardized (scaled to have a mean of 0 and variance of 1) to ensure faster and more stable convergence. Gradient descent is sensitive to feature scales, and standardization ensures all features contribute equally to optimization.\n",
    "\n",
    "![image.png](https://editor.analyticsvidhya.com/uploads/25665ezgif.com-gif-maker.gif)\n",
    "\n",
    "For example, `Sale Price` might range from hundreds to thousands, while `Profit` might range from tens to hundreds. Without standardization, algorithms may treat `Sale Price` as more important just because it has larger values.\n",
    "\n",
    "Follow these steps to perform Standardization using `scikit-learn` python library.\n",
    "\n",
    "1. Initialize the scaler\n",
    "2. Apply standardization on dataframe using `fit_transform` method"
   ]
  },
  {
   "cell_type": "code",
   "execution_count": 12,
   "id": "52d77d8b-e6f2-4e18-83e5-f9fe45da9df0",
   "metadata": {},
   "outputs": [],
   "source": [
    "from sklearn.preprocessing import StandardScaler\n",
    "\n",
    "numeric_columns = [\"Units Sold\", \"Manufacturing Price\", \"Sale Price\", \"Gross Sales\", \"Discounts\", \"Sales\", \"COGS\", \"Profit\"]\n",
    "\n",
    "# Step 9.1\n",
    "\n",
    "\n",
    "# Step 9.2\n"
   ]
  },
  {
   "cell_type": "markdown",
   "id": "832da1b7-3b4e-4454-a873-f35d46d18cfd",
   "metadata": {},
   "source": [
    "**Observation**\n",
    "\n",
    "After standardization, all numeric columns will have values with a mean of approximately 0 and a standard deviation of 1. This allows fair comparisons and consistent contributions from all columns."
   ]
  },
  {
   "cell_type": "code",
   "execution_count": 13,
   "id": "593b16dd-5d7e-44ff-ad57-2ac301b1adf6",
   "metadata": {},
   "outputs": [
    {
     "data": {
      "text/html": [
       "<div>\n",
       "<style scoped>\n",
       "    .dataframe tbody tr th:only-of-type {\n",
       "        vertical-align: middle;\n",
       "    }\n",
       "\n",
       "    .dataframe tbody tr th {\n",
       "        vertical-align: top;\n",
       "    }\n",
       "\n",
       "    .dataframe thead th {\n",
       "        text-align: right;\n",
       "    }\n",
       "</style>\n",
       "<table border=\"1\" class=\"dataframe\">\n",
       "  <thead>\n",
       "    <tr style=\"text-align: right;\">\n",
       "      <th></th>\n",
       "      <th>Units Sold</th>\n",
       "      <th>Manufacturing Price</th>\n",
       "      <th>Sale Price</th>\n",
       "      <th>Gross Sales</th>\n",
       "      <th>Discounts</th>\n",
       "      <th>Sales</th>\n",
       "      <th>COGS</th>\n",
       "      <th>Profit</th>\n",
       "      <th>Month Number</th>\n",
       "      <th>Year</th>\n",
       "    </tr>\n",
       "  </thead>\n",
       "  <tbody>\n",
       "    <tr>\n",
       "      <th>count</th>\n",
       "      <td>4.170000e+02</td>\n",
       "      <td>417.000000</td>\n",
       "      <td>4.170000e+02</td>\n",
       "      <td>4.170000e+02</td>\n",
       "      <td>4.170000e+02</td>\n",
       "      <td>4.170000e+02</td>\n",
       "      <td>4.170000e+02</td>\n",
       "      <td>4.170000e+02</td>\n",
       "      <td>417.000000</td>\n",
       "      <td>417.000000</td>\n",
       "    </tr>\n",
       "    <tr>\n",
       "      <th>mean</th>\n",
       "      <td>7.667727e-17</td>\n",
       "      <td>0.000000</td>\n",
       "      <td>2.129924e-17</td>\n",
       "      <td>-3.407879e-17</td>\n",
       "      <td>-3.407879e-17</td>\n",
       "      <td>-2.555909e-17</td>\n",
       "      <td>-8.519697e-18</td>\n",
       "      <td>-3.407879e-17</td>\n",
       "      <td>8.110312</td>\n",
       "      <td>2013.741007</td>\n",
       "    </tr>\n",
       "    <tr>\n",
       "      <th>std</th>\n",
       "      <td>1.001201e+00</td>\n",
       "      <td>1.001201</td>\n",
       "      <td>1.001201e+00</td>\n",
       "      <td>1.001201e+00</td>\n",
       "      <td>1.001201e+00</td>\n",
       "      <td>1.001201e+00</td>\n",
       "      <td>1.001201e+00</td>\n",
       "      <td>1.001201e+00</td>\n",
       "      <td>3.327091</td>\n",
       "      <td>0.438608</td>\n",
       "    </tr>\n",
       "    <tr>\n",
       "      <th>min</th>\n",
       "      <td>-1.567874e+00</td>\n",
       "      <td>-0.851098</td>\n",
       "      <td>-7.903821e-01</td>\n",
       "      <td>-6.859069e-01</td>\n",
       "      <td>-5.371746e-01</td>\n",
       "      <td>-6.850706e-01</td>\n",
       "      <td>-6.716298e-01</td>\n",
       "      <td>-6.491852e-01</td>\n",
       "      <td>1.000000</td>\n",
       "      <td>2013.000000</td>\n",
       "    </tr>\n",
       "    <tr>\n",
       "      <th>25%</th>\n",
       "      <td>-8.036956e-01</td>\n",
       "      <td>-0.833161</td>\n",
       "      <td>-7.557592e-01</td>\n",
       "      <td>-6.288820e-01</td>\n",
       "      <td>-5.091260e-01</td>\n",
       "      <td>-6.291867e-01</td>\n",
       "      <td>-6.418085e-01</td>\n",
       "      <td>-5.611097e-01</td>\n",
       "      <td>6.000000</td>\n",
       "      <td>2013.000000</td>\n",
       "    </tr>\n",
       "    <tr>\n",
       "      <th>50%</th>\n",
       "      <td>-7.040417e-02</td>\n",
       "      <td>-0.788318</td>\n",
       "      <td>-7.003625e-01</td>\n",
       "      <td>-5.663353e-01</td>\n",
       "      <td>-4.425832e-01</td>\n",
       "      <td>-5.639821e-01</td>\n",
       "      <td>-5.810614e-01</td>\n",
       "      <td>-3.958675e-01</td>\n",
       "      <td>9.000000</td>\n",
       "      <td>2014.000000</td>\n",
       "    </tr>\n",
       "    <tr>\n",
       "      <th>75%</th>\n",
       "      <td>6.731830e-01</td>\n",
       "      <td>1.364162</td>\n",
       "      <td>1.238520e+00</td>\n",
       "      <td>3.510897e-01</td>\n",
       "      <td>-6.544438e-02</td>\n",
       "      <td>3.063080e-01</td>\n",
       "      <td>3.818518e-01</td>\n",
       "      <td>-5.729185e-02</td>\n",
       "      <td>11.000000</td>\n",
       "      <td>2014.000000</td>\n",
       "    </tr>\n",
       "    <tr>\n",
       "      <th>max</th>\n",
       "      <td>3.322069e+00</td>\n",
       "      <td>1.453849</td>\n",
       "      <td>1.584750e+00</td>\n",
       "      <td>3.738742e+00</td>\n",
       "      <td>5.096722e+00</td>\n",
       "      <td>3.626509e+00</td>\n",
       "      <td>3.958725e+00</td>\n",
       "      <td>5.172833e+00</td>\n",
       "      <td>12.000000</td>\n",
       "      <td>2014.000000</td>\n",
       "    </tr>\n",
       "  </tbody>\n",
       "</table>\n",
       "</div>"
      ],
      "text/plain": [
       "         Units Sold  Manufacturing Price    Sale Price   Gross Sales  \\\n",
       "count  4.170000e+02           417.000000  4.170000e+02  4.170000e+02   \n",
       "mean   7.667727e-17             0.000000  2.129924e-17 -3.407879e-17   \n",
       "std    1.001201e+00             1.001201  1.001201e+00  1.001201e+00   \n",
       "min   -1.567874e+00            -0.851098 -7.903821e-01 -6.859069e-01   \n",
       "25%   -8.036956e-01            -0.833161 -7.557592e-01 -6.288820e-01   \n",
       "50%   -7.040417e-02            -0.788318 -7.003625e-01 -5.663353e-01   \n",
       "75%    6.731830e-01             1.364162  1.238520e+00  3.510897e-01   \n",
       "max    3.322069e+00             1.453849  1.584750e+00  3.738742e+00   \n",
       "\n",
       "          Discounts         Sales          COGS        Profit  Month Number  \\\n",
       "count  4.170000e+02  4.170000e+02  4.170000e+02  4.170000e+02    417.000000   \n",
       "mean  -3.407879e-17 -2.555909e-17 -8.519697e-18 -3.407879e-17      8.110312   \n",
       "std    1.001201e+00  1.001201e+00  1.001201e+00  1.001201e+00      3.327091   \n",
       "min   -5.371746e-01 -6.850706e-01 -6.716298e-01 -6.491852e-01      1.000000   \n",
       "25%   -5.091260e-01 -6.291867e-01 -6.418085e-01 -5.611097e-01      6.000000   \n",
       "50%   -4.425832e-01 -5.639821e-01 -5.810614e-01 -3.958675e-01      9.000000   \n",
       "75%   -6.544438e-02  3.063080e-01  3.818518e-01 -5.729185e-02     11.000000   \n",
       "max    5.096722e+00  3.626509e+00  3.958725e+00  5.172833e+00     12.000000   \n",
       "\n",
       "              Year  \n",
       "count   417.000000  \n",
       "mean   2013.741007  \n",
       "std       0.438608  \n",
       "min    2013.000000  \n",
       "25%    2013.000000  \n",
       "50%    2014.000000  \n",
       "75%    2014.000000  \n",
       "max    2014.000000  "
      ]
     },
     "execution_count": 13,
     "metadata": {},
     "output_type": "execute_result"
    }
   ],
   "source": [
    "data.describe()"
   ]
  },
  {
   "cell_type": "markdown",
   "id": "3ec00a0a-291d-4c5c-bf8e-8dd993131461",
   "metadata": {},
   "source": [
    "**Conclusion**\n",
    "\n",
    "Preprocessing is a critical step in preparing data for machine learning as it ensures consistency, removes ambiguities, and transforms the data into a format suitable for analysis. In this assignment, we standardized numeric columns and converted inconsistent date formats, enabling fair comparisons and reducing biases in the dataset. These steps ensure that the dataset is clean, uniform, and ready for applying machine learning models effectively."
   ]
  }
 ],
 "metadata": {
  "kernelspec": {
   "display_name": "Python 3 (ipykernel)",
   "language": "python",
   "name": "python3"
  },
  "language_info": {
   "codemirror_mode": {
    "name": "ipython",
    "version": 3
   },
   "file_extension": ".py",
   "mimetype": "text/x-python",
   "name": "python",
   "nbconvert_exporter": "python",
   "pygments_lexer": "ipython3",
   "version": "3.12.8"
  }
 },
 "nbformat": 4,
 "nbformat_minor": 5
}
